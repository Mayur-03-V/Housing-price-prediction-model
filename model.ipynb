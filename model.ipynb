{
 "cells": [
  {
   "cell_type": "markdown",
   "id": "a519fe36",
   "metadata": {
    "id": "a519fe36",
    "papermill": {
     "duration": 0.014262,
     "end_time": "2024-08-14T13:49:22.619987",
     "exception": false,
     "start_time": "2024-08-14T13:49:22.605725",
     "status": "completed"
    },
    "tags": []
   },
   "source": [
    "# 1. Importing Libraries"
   ]
  },
  {
   "cell_type": "code",
   "execution_count": 109,
   "id": "ef48e58b-ba2c-4742-9f48-fafce25daa93",
   "metadata": {},
   "outputs": [
    {
     "name": "stdout",
     "output_type": "stream",
     "text": [
      "Requirement already satisfied: xgboost in c:\\users\\03may\\anaconda3\\lib\\site-packages (2.1.2)\n",
      "Requirement already satisfied: numpy in c:\\users\\03may\\anaconda3\\lib\\site-packages (from xgboost) (1.26.4)\n",
      "Requirement already satisfied: scipy in c:\\users\\03may\\anaconda3\\lib\\site-packages (from xgboost) (1.13.1)\n",
      "Note: you may need to restart the kernel to use updated packages.\n"
     ]
    }
   ],
   "source": [
    "\n",
    "pip install xgboost"
   ]
  },
  {
   "cell_type": "code",
   "execution_count": 110,
   "id": "8f551595",
   "metadata": {
    "_cell_guid": "b1076dfc-b9ad-4769-8c92-a6c4dae69d19",
    "_uuid": "8f2839f25d086af736a60e9eeb907d3b93b6e0e5",
    "executionInfo": {
     "elapsed": 5,
     "status": "ok",
     "timestamp": 1732010693965,
     "user": {
      "displayName": "Mayur Valvi",
      "userId": "08772129272918674075"
     },
     "user_tz": -330
    },
    "id": "8f551595",
    "papermill": {
     "duration": 4.184048,
     "end_time": "2024-08-14T13:49:26.817724",
     "exception": false,
     "start_time": "2024-08-14T13:49:22.633676",
     "status": "completed"
    },
    "tags": []
   },
   "outputs": [],
   "source": [
    "import numpy as np\n",
    "import pandas as pd\n",
    "import matplotlib.pyplot as plt\n",
    "%matplotlib inline\n",
    "\n",
    "import seaborn as sns\n",
    "from sklearn.preprocessing import StandardScaler\n",
    "from sklearn.linear_model import Lasso\n",
    "from sklearn.feature_selection import SelectFromModel\n",
    "from sklearn.model_selection import train_test_split\n",
    "from sklearn.metrics import mean_squared_error, r2_score\n",
    "from sklearn.neighbors import KNeighborsRegressor\n",
    "from sklearn.tree import DecisionTreeRegressor\n",
    "from sklearn.ensemble import RandomForestRegressor,AdaBoostRegressor\n",
    "from sklearn.svm import SVR\n",
    "from sklearn.linear_model import LinearRegression, Ridge,Lasso\n",
    "from sklearn.metrics import r2_score, mean_absolute_error, mean_squared_error\n",
    "from catboost import CatBoostRegressor\n",
    "from xgboost import XGBRegressor\n",
    "import warnings\n",
    "warnings.filterwarnings('ignore')"
   ]
  },
  {
   "cell_type": "markdown",
   "id": "cf620f2d",
   "metadata": {
    "id": "cf620f2d",
    "papermill": {
     "duration": 0.01433,
     "end_time": "2024-08-14T13:49:26.846226",
     "exception": false,
     "start_time": "2024-08-14T13:49:26.831896",
     "status": "completed"
    },
    "tags": []
   },
   "source": [
    "# 2. Reading Data"
   ]
  },
  {
   "cell_type": "code",
   "execution_count": 112,
   "id": "c7aaf433",
   "metadata": {
    "colab": {
     "base_uri": "https://localhost:8080/",
     "height": 486
    },
    "executionInfo": {
     "elapsed": 1282,
     "status": "ok",
     "timestamp": 1732010695242,
     "user": {
      "displayName": "Mayur Valvi",
      "userId": "08772129272918674075"
     },
     "user_tz": -330
    },
    "id": "c7aaf433",
    "outputId": "0be3b395-7a3f-480c-9c89-ff796ab3141f",
    "papermill": {
     "duration": 0.169101,
     "end_time": "2024-08-14T13:49:27.029255",
     "exception": false,
     "start_time": "2024-08-14T13:49:26.860154",
     "status": "completed"
    },
    "tags": []
   },
   "outputs": [
    {
     "data": {
      "text/html": [
       "<div>\n",
       "<style scoped>\n",
       "    .dataframe tbody tr th:only-of-type {\n",
       "        vertical-align: middle;\n",
       "    }\n",
       "\n",
       "    .dataframe tbody tr th {\n",
       "        vertical-align: top;\n",
       "    }\n",
       "\n",
       "    .dataframe thead th {\n",
       "        text-align: right;\n",
       "    }\n",
       "</style>\n",
       "<table border=\"1\" class=\"dataframe\">\n",
       "  <thead>\n",
       "    <tr style=\"text-align: right;\">\n",
       "      <th></th>\n",
       "      <th>house_type</th>\n",
       "      <th>house_size</th>\n",
       "      <th>location</th>\n",
       "      <th>city</th>\n",
       "      <th>latitude</th>\n",
       "      <th>longitude</th>\n",
       "      <th>price</th>\n",
       "      <th>currency</th>\n",
       "      <th>numBathrooms</th>\n",
       "      <th>numBalconies</th>\n",
       "      <th>isNegotiable</th>\n",
       "      <th>priceSqFt</th>\n",
       "      <th>verificationDate</th>\n",
       "      <th>description</th>\n",
       "      <th>SecurityDeposit</th>\n",
       "      <th>Status</th>\n",
       "    </tr>\n",
       "  </thead>\n",
       "  <tbody>\n",
       "    <tr>\n",
       "      <th>0</th>\n",
       "      <td>1 RK Studio Apartment</td>\n",
       "      <td>400 sq ft</td>\n",
       "      <td>Kalkaji</td>\n",
       "      <td>Delhi</td>\n",
       "      <td>28.545561</td>\n",
       "      <td>77.254349</td>\n",
       "      <td>22000</td>\n",
       "      <td>INR</td>\n",
       "      <td>1.0</td>\n",
       "      <td>NaN</td>\n",
       "      <td>NaN</td>\n",
       "      <td>NaN</td>\n",
       "      <td>Posted a day ago</td>\n",
       "      <td>Fully furnished, loaded with amenities &amp; gadge...</td>\n",
       "      <td>No Deposit</td>\n",
       "      <td>Furnished</td>\n",
       "    </tr>\n",
       "    <tr>\n",
       "      <th>1</th>\n",
       "      <td>1 RK Studio Apartment</td>\n",
       "      <td>400 sq ft</td>\n",
       "      <td>Mansarover Garden</td>\n",
       "      <td>Delhi</td>\n",
       "      <td>28.643259</td>\n",
       "      <td>77.132828</td>\n",
       "      <td>20000</td>\n",
       "      <td>INR</td>\n",
       "      <td>1.0</td>\n",
       "      <td>NaN</td>\n",
       "      <td>NaN</td>\n",
       "      <td>NaN</td>\n",
       "      <td>Posted 9 days ago</td>\n",
       "      <td>Here is an excellent 1 BHK Independent Floor a...</td>\n",
       "      <td>No Deposit</td>\n",
       "      <td>Furnished</td>\n",
       "    </tr>\n",
       "    <tr>\n",
       "      <th>2</th>\n",
       "      <td>2 BHK Independent Floor</td>\n",
       "      <td>500 sq ft</td>\n",
       "      <td>Uttam Nagar</td>\n",
       "      <td>Delhi</td>\n",
       "      <td>28.618677</td>\n",
       "      <td>77.053352</td>\n",
       "      <td>8500</td>\n",
       "      <td>INR</td>\n",
       "      <td>1.0</td>\n",
       "      <td>NaN</td>\n",
       "      <td>NaN</td>\n",
       "      <td>NaN</td>\n",
       "      <td>Posted 12 days ago</td>\n",
       "      <td>Zero Brokerage.\\n\\n2 Room set, Govt bijali Met...</td>\n",
       "      <td>No Deposit</td>\n",
       "      <td>Semi-Furnished</td>\n",
       "    </tr>\n",
       "    <tr>\n",
       "      <th>3</th>\n",
       "      <td>3 BHK Independent House</td>\n",
       "      <td>1,020 sq ft</td>\n",
       "      <td>Model Town</td>\n",
       "      <td>Delhi</td>\n",
       "      <td>28.712898</td>\n",
       "      <td>77.180000</td>\n",
       "      <td>48000</td>\n",
       "      <td>INR</td>\n",
       "      <td>3.0</td>\n",
       "      <td>NaN</td>\n",
       "      <td>NaN</td>\n",
       "      <td>NaN</td>\n",
       "      <td>Posted a year ago</td>\n",
       "      <td>Itâs a 3 bhk independent house situated in M...</td>\n",
       "      <td>No Deposit</td>\n",
       "      <td>Furnished</td>\n",
       "    </tr>\n",
       "    <tr>\n",
       "      <th>4</th>\n",
       "      <td>2 BHK Apartment</td>\n",
       "      <td>810 sq ft</td>\n",
       "      <td>Sector 13 Rohini</td>\n",
       "      <td>Delhi</td>\n",
       "      <td>28.723539</td>\n",
       "      <td>77.131424</td>\n",
       "      <td>20000</td>\n",
       "      <td>INR</td>\n",
       "      <td>2.0</td>\n",
       "      <td>NaN</td>\n",
       "      <td>NaN</td>\n",
       "      <td>NaN</td>\n",
       "      <td>Posted a year ago</td>\n",
       "      <td>Well designed 2 bhk multistorey apartment is a...</td>\n",
       "      <td>No Deposit</td>\n",
       "      <td>Unfurnished</td>\n",
       "    </tr>\n",
       "  </tbody>\n",
       "</table>\n",
       "</div>"
      ],
      "text/plain": [
       "                 house_type   house_size           location   city   latitude  \\\n",
       "0    1 RK Studio Apartment     400 sq ft            Kalkaji  Delhi  28.545561   \n",
       "1    1 RK Studio Apartment     400 sq ft  Mansarover Garden  Delhi  28.643259   \n",
       "2  2 BHK Independent Floor     500 sq ft        Uttam Nagar  Delhi  28.618677   \n",
       "3  3 BHK Independent House   1,020 sq ft         Model Town  Delhi  28.712898   \n",
       "4          2 BHK Apartment     810 sq ft   Sector 13 Rohini  Delhi  28.723539   \n",
       "\n",
       "   longitude  price currency  numBathrooms  numBalconies isNegotiable  \\\n",
       "0  77.254349  22000      INR           1.0           NaN          NaN   \n",
       "1  77.132828  20000      INR           1.0           NaN          NaN   \n",
       "2  77.053352   8500      INR           1.0           NaN          NaN   \n",
       "3  77.180000  48000      INR           3.0           NaN          NaN   \n",
       "4  77.131424  20000      INR           2.0           NaN          NaN   \n",
       "\n",
       "   priceSqFt    verificationDate  \\\n",
       "0        NaN    Posted a day ago   \n",
       "1        NaN   Posted 9 days ago   \n",
       "2        NaN  Posted 12 days ago   \n",
       "3        NaN   Posted a year ago   \n",
       "4        NaN   Posted a year ago   \n",
       "\n",
       "                                         description SecurityDeposit  \\\n",
       "0  Fully furnished, loaded with amenities & gadge...      No Deposit   \n",
       "1  Here is an excellent 1 BHK Independent Floor a...      No Deposit   \n",
       "2  Zero Brokerage.\\n\\n2 Room set, Govt bijali Met...      No Deposit   \n",
       "3  Itâs a 3 bhk independent house situated in M...      No Deposit   \n",
       "4  Well designed 2 bhk multistorey apartment is a...      No Deposit   \n",
       "\n",
       "           Status  \n",
       "0       Furnished  \n",
       "1       Furnished  \n",
       "2  Semi-Furnished  \n",
       "3       Furnished  \n",
       "4     Unfurnished  "
      ]
     },
     "execution_count": 112,
     "metadata": {},
     "output_type": "execute_result"
    }
   ],
   "source": [
    "df = pd.read_csv('D:\\Indian_housing_Delhi_data.csv')\n",
    "df.head()"
   ]
  },
  {
   "cell_type": "code",
   "execution_count": 113,
   "id": "bb9a3e2b",
   "metadata": {
    "colab": {
     "base_uri": "https://localhost:8080/"
    },
    "executionInfo": {
     "elapsed": 14,
     "status": "ok",
     "timestamp": 1732010701263,
     "user": {
      "displayName": "Mayur Valvi",
      "userId": "08772129272918674075"
     },
     "user_tz": -330
    },
    "id": "bb9a3e2b",
    "outputId": "bc4d21c5-9b2a-41cc-a56a-d1f5460d780e",
    "papermill": {
     "duration": 0.026808,
     "end_time": "2024-08-14T13:49:27.071758",
     "exception": false,
     "start_time": "2024-08-14T13:49:27.044950",
     "status": "completed"
    },
    "tags": []
   },
   "outputs": [
    {
     "data": {
      "text/plain": [
       "(5000, 16)"
      ]
     },
     "execution_count": 113,
     "metadata": {},
     "output_type": "execute_result"
    }
   ],
   "source": [
    "df.shape"
   ]
  },
  {
   "cell_type": "code",
   "execution_count": 114,
   "id": "b3e41b36",
   "metadata": {
    "colab": {
     "base_uri": "https://localhost:8080/"
    },
    "executionInfo": {
     "elapsed": 13,
     "status": "ok",
     "timestamp": 1732010701263,
     "user": {
      "displayName": "Mayur Valvi",
      "userId": "08772129272918674075"
     },
     "user_tz": -330
    },
    "id": "b3e41b36",
    "outputId": "d339666b-29ca-4ab6-a810-af91c69cd81b",
    "papermill": {
     "duration": 0.058702,
     "end_time": "2024-08-14T13:49:27.145216",
     "exception": false,
     "start_time": "2024-08-14T13:49:27.086514",
     "status": "completed"
    },
    "tags": []
   },
   "outputs": [
    {
     "name": "stdout",
     "output_type": "stream",
     "text": [
      "<class 'pandas.core.frame.DataFrame'>\n",
      "RangeIndex: 5000 entries, 0 to 4999\n",
      "Data columns (total 16 columns):\n",
      " #   Column            Non-Null Count  Dtype  \n",
      "---  ------            --------------  -----  \n",
      " 0   house_type        5000 non-null   object \n",
      " 1   house_size        5000 non-null   object \n",
      " 2   location          5000 non-null   object \n",
      " 3   city              5000 non-null   object \n",
      " 4   latitude          5000 non-null   float64\n",
      " 5   longitude         5000 non-null   float64\n",
      " 6   price             5000 non-null   int64  \n",
      " 7   currency          5000 non-null   object \n",
      " 8   numBathrooms      4975 non-null   float64\n",
      " 9   numBalconies      2737 non-null   float64\n",
      " 10  isNegotiable      179 non-null    object \n",
      " 11  priceSqFt         0 non-null      float64\n",
      " 12  verificationDate  5000 non-null   object \n",
      " 13  description       4715 non-null   object \n",
      " 14  SecurityDeposit   5000 non-null   object \n",
      " 15  Status            5000 non-null   object \n",
      "dtypes: float64(5), int64(1), object(10)\n",
      "memory usage: 625.1+ KB\n"
     ]
    }
   ],
   "source": [
    "df.info()"
   ]
  },
  {
   "cell_type": "markdown",
   "id": "56d84b35",
   "metadata": {
    "id": "56d84b35",
    "papermill": {
     "duration": 0.014509,
     "end_time": "2024-08-14T13:49:27.174764",
     "exception": false,
     "start_time": "2024-08-14T13:49:27.160255",
     "status": "completed"
    },
    "tags": []
   },
   "source": [
    "# 3. Data Analysis"
   ]
  },
  {
   "cell_type": "code",
   "execution_count": 116,
   "id": "75c85c17",
   "metadata": {
    "colab": {
     "base_uri": "https://localhost:8080/"
    },
    "executionInfo": {
     "elapsed": 11,
     "status": "ok",
     "timestamp": 1732010701263,
     "user": {
      "displayName": "Mayur Valvi",
      "userId": "08772129272918674075"
     },
     "user_tz": -330
    },
    "id": "75c85c17",
    "outputId": "9b015bbe-2a38-4177-d5c6-06b961029a2b",
    "papermill": {
     "duration": 0.037518,
     "end_time": "2024-08-14T13:49:27.227159",
     "exception": false,
     "start_time": "2024-08-14T13:49:27.189641",
     "status": "completed"
    },
    "tags": []
   },
   "outputs": [
    {
     "name": "stdout",
     "output_type": "stream",
     "text": [
      "The percentage of NaN values in numBathrooms is: 0.005 %\n",
      "The percentage of NaN values in numBalconies is: 0.453 %\n",
      "The percentage of NaN values in isNegotiable is: 0.964 %\n",
      "The percentage of NaN values in priceSqFt is: 1.0 %\n",
      "The percentage of NaN values in description is: 0.057 %\n"
     ]
    }
   ],
   "source": [
    "# Analysing Missing Values\n",
    "\n",
    "feature_nan = [feature for feature in df.columns if df[feature].isnull().sum() >1]\n",
    "\n",
    "for feature in feature_nan:\n",
    "    print(f'The percentage of NaN values in {feature} is: {np.round(df[feature].isnull().mean(),3)} %')"
   ]
  },
  {
   "cell_type": "code",
   "execution_count": 117,
   "id": "e28cfa48",
   "metadata": {
    "colab": {
     "base_uri": "https://localhost:8080/",
     "height": 1000
    },
    "executionInfo": {
     "elapsed": 3458,
     "status": "ok",
     "timestamp": 1732010704711,
     "user": {
      "displayName": "Mayur Valvi",
      "userId": "08772129272918674075"
     },
     "user_tz": -330
    },
    "id": "e28cfa48",
    "outputId": "c5a15912-26e4-4e0f-e9af-4dec6568b4a7",
    "papermill": {
     "duration": 1.365379,
     "end_time": "2024-08-14T13:49:28.607715",
     "exception": false,
     "start_time": "2024-08-14T13:49:27.242336",
     "status": "completed"
    },
    "tags": []
   },
   "outputs": [
    {
     "data": {
      "image/png": "[encoded data removed]",
      "text/plain": [
       "<Figure size 640x480 with 1 Axes>"
      ]
     },
     "metadata": {},
     "output_type": "display_data"
    },
    {
     "data": {
      "image/png": "[encoded data removed]",
      "text/plain": [
       "<Figure size 640x480 with 1 Axes>"
      ]
     },
     "metadata": {},
     "output_type": "display_data"
    },
    {
     "data": {
      "image/png": "[encoded data removed]",
      "text/plain": [
       "<Figure size 640x480 with 1 Axes>"
      ]
     },
     "metadata": {},
     "output_type": "display_data"
    },
    {
     "data": {
      "image/png": "[encoded data removed]",
      "text/plain": [
       "<Figure size 640x480 with 1 Axes>"
      ]
     },
     "metadata": {},
     "output_type": "display_data"
    },
    {
     "data": {
      "image/png": "[encoded data removed]",
      "text/plain": [
       "<Figure size 640x480 with 1 Axes>"
      ]
     },
     "metadata": {},
     "output_type": "display_data"
    }
   ],
   "source": [
    "# Analysing Impact of NaN on Rent\n",
    "\n",
    "for feature in feature_nan:\n",
    "    data = df.copy()\n",
    "    data[feature] = np.where(data[feature].isnull(),1,0)\n",
    "\n",
    "    data.groupby(feature)['price'].median().plot(kind='bar')\n",
    "    plt.title(feature)\n",
    "    plt.show()"
   ]
  },
  {
   "cell_type": "markdown",
   "id": "836e37fa",
   "metadata": {
    "id": "836e37fa",
    "papermill": {
     "duration": 0.016557,
     "end_time": "2024-08-14T13:49:28.641117",
     "exception": false,
     "start_time": "2024-08-14T13:49:28.624560",
     "status": "completed"
    },
    "tags": []
   },
   "source": [
    "**Most of the features containing NaN have significant difference in rent price for both 0 and 1 categories and therefore should be handled instead of dropping. Except for priceSqFt that contains only NaN and can be dropped.**"
   ]
  },
  {
   "cell_type": "code",
   "execution_count": 119,
   "id": "4e29fc9b",
   "metadata": {
    "executionInfo": {
     "elapsed": 24,
     "status": "ok",
     "timestamp": 1732010704711,
     "user": {
      "displayName": "Mayur Valvi",
      "userId": "08772129272918674075"
     },
     "user_tz": -330
    },
    "id": "4e29fc9b",
    "papermill": {
     "duration": 0.033474,
     "end_time": "2024-08-14T13:49:28.693232",
     "exception": false,
     "start_time": "2024-08-14T13:49:28.659758",
     "status": "completed"
    },
    "tags": []
   },
   "outputs": [],
   "source": [
    "## Indetifying categorical and numerical features\n",
    "\n",
    "num_feature = [feature for feature in df.columns if df[feature].dtype != 'O']\n",
    "cat_feature = [feature for feature in df.columns if df[feature].dtype == 'O']"
   ]
  },
  {
   "cell_type": "code",
   "execution_count": 120,
   "id": "124ad53c",
   "metadata": {
    "colab": {
     "base_uri": "https://localhost:8080/",
     "height": 206
    },
    "executionInfo": {
     "elapsed": 24,
     "status": "ok",
     "timestamp": 1732010704711,
     "user": {
      "displayName": "Mayur Valvi",
      "userId": "08772129272918674075"
     },
     "user_tz": -330
    },
    "id": "124ad53c",
    "outputId": "64044a9f-3d04-47bf-aa02-e9064c9a2b2e",
    "papermill": {
     "duration": 0.039438,
     "end_time": "2024-08-14T13:49:28.750362",
     "exception": false,
     "start_time": "2024-08-14T13:49:28.710924",
     "status": "completed"
    },
    "tags": []
   },
   "outputs": [
    {
     "data": {
      "text/html": [
       "<div>\n",
       "<style scoped>\n",
       "    .dataframe tbody tr th:only-of-type {\n",
       "        vertical-align: middle;\n",
       "    }\n",
       "\n",
       "    .dataframe tbody tr th {\n",
       "        vertical-align: top;\n",
       "    }\n",
       "\n",
       "    .dataframe thead th {\n",
       "        text-align: right;\n",
       "    }\n",
       "</style>\n",
       "<table border=\"1\" class=\"dataframe\">\n",
       "  <thead>\n",
       "    <tr style=\"text-align: right;\">\n",
       "      <th></th>\n",
       "      <th>latitude</th>\n",
       "      <th>longitude</th>\n",
       "      <th>price</th>\n",
       "      <th>numBathrooms</th>\n",
       "      <th>numBalconies</th>\n",
       "      <th>priceSqFt</th>\n",
       "    </tr>\n",
       "  </thead>\n",
       "  <tbody>\n",
       "    <tr>\n",
       "      <th>0</th>\n",
       "      <td>28.545561</td>\n",
       "      <td>77.254349</td>\n",
       "      <td>22000</td>\n",
       "      <td>1.0</td>\n",
       "      <td>NaN</td>\n",
       "      <td>NaN</td>\n",
       "    </tr>\n",
       "    <tr>\n",
       "      <th>1</th>\n",
       "      <td>28.643259</td>\n",
       "      <td>77.132828</td>\n",
       "      <td>20000</td>\n",
       "      <td>1.0</td>\n",
       "      <td>NaN</td>\n",
       "      <td>NaN</td>\n",
       "    </tr>\n",
       "    <tr>\n",
       "      <th>2</th>\n",
       "      <td>28.618677</td>\n",
       "      <td>77.053352</td>\n",
       "      <td>8500</td>\n",
       "      <td>1.0</td>\n",
       "      <td>NaN</td>\n",
       "      <td>NaN</td>\n",
       "    </tr>\n",
       "    <tr>\n",
       "      <th>3</th>\n",
       "      <td>28.712898</td>\n",
       "      <td>77.180000</td>\n",
       "      <td>48000</td>\n",
       "      <td>3.0</td>\n",
       "      <td>NaN</td>\n",
       "      <td>NaN</td>\n",
       "    </tr>\n",
       "    <tr>\n",
       "      <th>4</th>\n",
       "      <td>28.723539</td>\n",
       "      <td>77.131424</td>\n",
       "      <td>20000</td>\n",
       "      <td>2.0</td>\n",
       "      <td>NaN</td>\n",
       "      <td>NaN</td>\n",
       "    </tr>\n",
       "  </tbody>\n",
       "</table>\n",
       "</div>"
      ],
      "text/plain": [
       "    latitude  longitude  price  numBathrooms  numBalconies  priceSqFt\n",
       "0  28.545561  77.254349  22000           1.0           NaN        NaN\n",
       "1  28.643259  77.132828  20000           1.0           NaN        NaN\n",
       "2  28.618677  77.053352   8500           1.0           NaN        NaN\n",
       "3  28.712898  77.180000  48000           3.0           NaN        NaN\n",
       "4  28.723539  77.131424  20000           2.0           NaN        NaN"
      ]
     },
     "execution_count": 120,
     "metadata": {},
     "output_type": "execute_result"
    }
   ],
   "source": [
    "df[num_feature].head()"
   ]
  },
  {
   "cell_type": "code",
   "execution_count": 121,
   "id": "2088c88a",
   "metadata": {
    "colab": {
     "base_uri": "https://localhost:8080/",
     "height": 379
    },
    "executionInfo": {
     "elapsed": 23,
     "status": "ok",
     "timestamp": 1732010704711,
     "user": {
      "displayName": "Mayur Valvi",
      "userId": "08772129272918674075"
     },
     "user_tz": -330
    },
    "id": "2088c88a",
    "outputId": "ee072156-ea9a-45e1-e343-1cf4670b3f46",
    "papermill": {
     "duration": 0.042689,
     "end_time": "2024-08-14T13:49:28.810245",
     "exception": false,
     "start_time": "2024-08-14T13:49:28.767556",
     "status": "completed"
    },
    "tags": []
   },
   "outputs": [
    {
     "data": {
      "text/html": [
       "<div>\n",
       "<style scoped>\n",
       "    .dataframe tbody tr th:only-of-type {\n",
       "        vertical-align: middle;\n",
       "    }\n",
       "\n",
       "    .dataframe tbody tr th {\n",
       "        vertical-align: top;\n",
       "    }\n",
       "\n",
       "    .dataframe thead th {\n",
       "        text-align: right;\n",
       "    }\n",
       "</style>\n",
       "<table border=\"1\" class=\"dataframe\">\n",
       "  <thead>\n",
       "    <tr style=\"text-align: right;\">\n",
       "      <th></th>\n",
       "      <th>house_type</th>\n",
       "      <th>house_size</th>\n",
       "      <th>location</th>\n",
       "      <th>city</th>\n",
       "      <th>currency</th>\n",
       "      <th>isNegotiable</th>\n",
       "      <th>verificationDate</th>\n",
       "      <th>description</th>\n",
       "      <th>SecurityDeposit</th>\n",
       "      <th>Status</th>\n",
       "    </tr>\n",
       "  </thead>\n",
       "  <tbody>\n",
       "    <tr>\n",
       "      <th>0</th>\n",
       "      <td>1 RK Studio Apartment</td>\n",
       "      <td>400 sq ft</td>\n",
       "      <td>Kalkaji</td>\n",
       "      <td>Delhi</td>\n",
       "      <td>INR</td>\n",
       "      <td>NaN</td>\n",
       "      <td>Posted a day ago</td>\n",
       "      <td>Fully furnished, loaded with amenities &amp; gadge...</td>\n",
       "      <td>No Deposit</td>\n",
       "      <td>Furnished</td>\n",
       "    </tr>\n",
       "    <tr>\n",
       "      <th>1</th>\n",
       "      <td>1 RK Studio Apartment</td>\n",
       "      <td>400 sq ft</td>\n",
       "      <td>Mansarover Garden</td>\n",
       "      <td>Delhi</td>\n",
       "      <td>INR</td>\n",
       "      <td>NaN</td>\n",
       "      <td>Posted 9 days ago</td>\n",
       "      <td>Here is an excellent 1 BHK Independent Floor a...</td>\n",
       "      <td>No Deposit</td>\n",
       "      <td>Furnished</td>\n",
       "    </tr>\n",
       "    <tr>\n",
       "      <th>2</th>\n",
       "      <td>2 BHK Independent Floor</td>\n",
       "      <td>500 sq ft</td>\n",
       "      <td>Uttam Nagar</td>\n",
       "      <td>Delhi</td>\n",
       "      <td>INR</td>\n",
       "      <td>NaN</td>\n",
       "      <td>Posted 12 days ago</td>\n",
       "      <td>Zero Brokerage.\\n\\n2 Room set, Govt bijali Met...</td>\n",
       "      <td>No Deposit</td>\n",
       "      <td>Semi-Furnished</td>\n",
       "    </tr>\n",
       "    <tr>\n",
       "      <th>3</th>\n",
       "      <td>3 BHK Independent House</td>\n",
       "      <td>1,020 sq ft</td>\n",
       "      <td>Model Town</td>\n",
       "      <td>Delhi</td>\n",
       "      <td>INR</td>\n",
       "      <td>NaN</td>\n",
       "      <td>Posted a year ago</td>\n",
       "      <td>Itâs a 3 bhk independent house situated in M...</td>\n",
       "      <td>No Deposit</td>\n",
       "      <td>Furnished</td>\n",
       "    </tr>\n",
       "    <tr>\n",
       "      <th>4</th>\n",
       "      <td>2 BHK Apartment</td>\n",
       "      <td>810 sq ft</td>\n",
       "      <td>Sector 13 Rohini</td>\n",
       "      <td>Delhi</td>\n",
       "      <td>INR</td>\n",
       "      <td>NaN</td>\n",
       "      <td>Posted a year ago</td>\n",
       "      <td>Well designed 2 bhk multistorey apartment is a...</td>\n",
       "      <td>No Deposit</td>\n",
       "      <td>Unfurnished</td>\n",
       "    </tr>\n",
       "  </tbody>\n",
       "</table>\n",
       "</div>"
      ],
      "text/plain": [
       "                 house_type   house_size           location   city currency  \\\n",
       "0    1 RK Studio Apartment     400 sq ft            Kalkaji  Delhi      INR   \n",
       "1    1 RK Studio Apartment     400 sq ft  Mansarover Garden  Delhi      INR   \n",
       "2  2 BHK Independent Floor     500 sq ft        Uttam Nagar  Delhi      INR   \n",
       "3  3 BHK Independent House   1,020 sq ft         Model Town  Delhi      INR   \n",
       "4          2 BHK Apartment     810 sq ft   Sector 13 Rohini  Delhi      INR   \n",
       "\n",
       "  isNegotiable    verificationDate  \\\n",
       "0          NaN    Posted a day ago   \n",
       "1          NaN   Posted 9 days ago   \n",
       "2          NaN  Posted 12 days ago   \n",
       "3          NaN   Posted a year ago   \n",
       "4          NaN   Posted a year ago   \n",
       "\n",
       "                                         description SecurityDeposit  \\\n",
       "0  Fully furnished, loaded with amenities & gadge...      No Deposit   \n",
       "1  Here is an excellent 1 BHK Independent Floor a...      No Deposit   \n",
       "2  Zero Brokerage.\\n\\n2 Room set, Govt bijali Met...      No Deposit   \n",
       "3  Itâs a 3 bhk independent house situated in M...      No Deposit   \n",
       "4  Well designed 2 bhk multistorey apartment is a...      No Deposit   \n",
       "\n",
       "           Status  \n",
       "0       Furnished  \n",
       "1       Furnished  \n",
       "2  Semi-Furnished  \n",
       "3       Furnished  \n",
       "4     Unfurnished  "
      ]
     },
     "execution_count": 121,
     "metadata": {},
     "output_type": "execute_result"
    }
   ],
   "source": [
    "df[cat_feature].head()"
   ]
  },
  {
   "cell_type": "code",
   "execution_count": 122,
   "id": "a557d2fa",
   "metadata": {
    "colab": {
     "base_uri": "https://localhost:8080/"
    },
    "executionInfo": {
     "elapsed": 23,
     "status": "ok",
     "timestamp": 1732010704711,
     "user": {
      "displayName": "Mayur Valvi",
      "userId": "08772129272918674075"
     },
     "user_tz": -330
    },
    "id": "a557d2fa",
    "outputId": "98196736-ee49-40e5-dc4c-8d1af3aebdcf",
    "papermill": {
     "duration": 0.034646,
     "end_time": "2024-08-14T13:49:28.863014",
     "exception": false,
     "start_time": "2024-08-14T13:49:28.828368",
     "status": "completed"
    },
    "tags": []
   },
   "outputs": [
    {
     "name": "stdout",
     "output_type": "stream",
     "text": [
      "Number of discrete columns: 2\n",
      "Number of continuous columns: 3\n"
     ]
    }
   ],
   "source": [
    "## Identifying and analysing numerical features that are dicrete or continuous.\n",
    "\n",
    "discrete = [feature for feature in num_feature if df[feature].nunique() < 25 and feature != 'priceSqFt']\n",
    "continuous = [feature for feature in num_feature if feature not in discrete and feature != 'priceSqFt' ]\n",
    "print(f'Number of discrete columns: {len(discrete)}')\n",
    "print(f'Number of continuous columns: {len(continuous)}')\n",
    "\n"
   ]
  },
  {
   "cell_type": "code",
   "execution_count": 123,
   "id": "855609ed",
   "metadata": {
    "colab": {
     "base_uri": "https://localhost:8080/",
     "height": 1000
    },
    "executionInfo": {
     "elapsed": 20,
     "status": "ok",
     "timestamp": 1732010704711,
     "user": {
      "displayName": "Mayur Valvi",
      "userId": "08772129272918674075"
     },
     "user_tz": -330
    },
    "id": "855609ed",
    "outputId": "e3ff6863-23af-4c39-f6f8-58d85b023b71",
    "papermill": {
     "duration": 0.59387,
     "end_time": "2024-08-14T13:49:29.474920",
     "exception": false,
     "start_time": "2024-08-14T13:49:28.881050",
     "status": "completed"
    },
    "tags": []
   },
   "outputs": [
    {
     "data": {
      "image/png": "[encoded data removed]",
      "text/plain": [
       "<Figure size 1000x600 with 1 Axes>"
      ]
     },
     "metadata": {},
     "output_type": "display_data"
    },
    {
     "data": {
      "image/png": "[encoded data removed]",
      "text/plain": [
       "<Figure size 1000x600 with 1 Axes>"
      ]
     },
     "metadata": {},
     "output_type": "display_data"
    }
   ],
   "source": [
    "for feature in discrete:\n",
    "    df.groupby(feature)['price'].median().plot(kind='bar',figsize=(10,6))\n",
    "    plt.xlabel(feature)\n",
    "    plt.ylabel('Rent')\n",
    "    plt.show()"
   ]
  },
  {
   "cell_type": "code",
   "execution_count": 124,
   "id": "3d0c0992",
   "metadata": {
    "colab": {
     "base_uri": "https://localhost:8080/",
     "height": 403
    },
    "executionInfo": {
     "elapsed": 462,
     "status": "ok",
     "timestamp": 1732010705154,
     "user": {
      "displayName": "Mayur Valvi",
      "userId": "08772129272918674075"
     },
     "user_tz": -330
    },
    "id": "3d0c0992",
    "outputId": "2d2c8bc2-7837-41a8-dc16-95e561687740",
    "papermill": {
     "duration": 0.048755,
     "end_time": "2024-08-14T13:49:29.543268",
     "exception": false,
     "start_time": "2024-08-14T13:49:29.494513",
     "status": "completed"
    },
    "tags": []
   },
   "outputs": [
    {
     "data": {
      "text/html": [
       "<div>\n",
       "<style scoped>\n",
       "    .dataframe tbody tr th:only-of-type {\n",
       "        vertical-align: middle;\n",
       "    }\n",
       "\n",
       "    .dataframe tbody tr th {\n",
       "        vertical-align: top;\n",
       "    }\n",
       "\n",
       "    .dataframe thead th {\n",
       "        text-align: right;\n",
       "    }\n",
       "</style>\n",
       "<table border=\"1\" class=\"dataframe\">\n",
       "  <thead>\n",
       "    <tr style=\"text-align: right;\">\n",
       "      <th></th>\n",
       "      <th>house_type</th>\n",
       "      <th>house_size</th>\n",
       "      <th>location</th>\n",
       "      <th>city</th>\n",
       "      <th>latitude</th>\n",
       "      <th>longitude</th>\n",
       "      <th>price</th>\n",
       "      <th>currency</th>\n",
       "      <th>numBathrooms</th>\n",
       "      <th>numBalconies</th>\n",
       "      <th>isNegotiable</th>\n",
       "      <th>priceSqFt</th>\n",
       "      <th>verificationDate</th>\n",
       "      <th>description</th>\n",
       "      <th>SecurityDeposit</th>\n",
       "      <th>Status</th>\n",
       "    </tr>\n",
       "  </thead>\n",
       "  <tbody>\n",
       "    <tr>\n",
       "      <th>2695</th>\n",
       "      <td>5 BHK Villa</td>\n",
       "      <td>6,521 sq ft</td>\n",
       "      <td>Gulmohar park</td>\n",
       "      <td>Delhi</td>\n",
       "      <td>28.557659</td>\n",
       "      <td>77.212486</td>\n",
       "      <td>401012</td>\n",
       "      <td>INR</td>\n",
       "      <td>4.0</td>\n",
       "      <td>6.0</td>\n",
       "      <td>NaN</td>\n",
       "      <td>NaN</td>\n",
       "      <td>Posted a year ago</td>\n",
       "      <td>Itâs a 5 bhk villa situated in Gulmohar park...</td>\n",
       "      <td>10,10,202</td>\n",
       "      <td>Unfurnished</td>\n",
       "    </tr>\n",
       "    <tr>\n",
       "      <th>3961</th>\n",
       "      <td>9 BHK Independent House</td>\n",
       "      <td>9,841 sq ft</td>\n",
       "      <td>Shanti Niketan</td>\n",
       "      <td>Delhi</td>\n",
       "      <td>28.577921</td>\n",
       "      <td>77.169373</td>\n",
       "      <td>1010102</td>\n",
       "      <td>INR</td>\n",
       "      <td>9.0</td>\n",
       "      <td>6.0</td>\n",
       "      <td>NaN</td>\n",
       "      <td>NaN</td>\n",
       "      <td>Posted 3 years ago</td>\n",
       "      <td>NaN</td>\n",
       "      <td>30,10,111</td>\n",
       "      <td>Unfurnished</td>\n",
       "    </tr>\n",
       "    <tr>\n",
       "      <th>3964</th>\n",
       "      <td>10 BHK Independent House</td>\n",
       "      <td>11,221 sq ft</td>\n",
       "      <td>Greater Kailash II</td>\n",
       "      <td>Delhi</td>\n",
       "      <td>28.531740</td>\n",
       "      <td>77.249138</td>\n",
       "      <td>854612</td>\n",
       "      <td>INR</td>\n",
       "      <td>10.0</td>\n",
       "      <td>6.0</td>\n",
       "      <td>NaN</td>\n",
       "      <td>NaN</td>\n",
       "      <td>Posted 3 years ago</td>\n",
       "      <td>NaN</td>\n",
       "      <td>25,44,612</td>\n",
       "      <td>Unfurnished</td>\n",
       "    </tr>\n",
       "    <tr>\n",
       "      <th>4154</th>\n",
       "      <td>6 BHK penthouse</td>\n",
       "      <td>3,500 sq ft</td>\n",
       "      <td>Sheikh Sarai Village</td>\n",
       "      <td>Delhi</td>\n",
       "      <td>28.534254</td>\n",
       "      <td>77.221458</td>\n",
       "      <td>150000</td>\n",
       "      <td>INR</td>\n",
       "      <td>6.0</td>\n",
       "      <td>8.0</td>\n",
       "      <td>Negotiable</td>\n",
       "      <td>NaN</td>\n",
       "      <td>Posted a month ago</td>\n",
       "      <td>This is a 6 BHK and 6 baths penthouse property...</td>\n",
       "      <td>3,00,000</td>\n",
       "      <td>Furnished</td>\n",
       "    </tr>\n",
       "  </tbody>\n",
       "</table>\n",
       "</div>"
      ],
      "text/plain": [
       "                     house_type    house_size              location   city  \\\n",
       "2695               5 BHK Villa    6,521 sq ft         Gulmohar park  Delhi   \n",
       "3961   9 BHK Independent House    9,841 sq ft        Shanti Niketan  Delhi   \n",
       "3964  10 BHK Independent House   11,221 sq ft    Greater Kailash II  Delhi   \n",
       "4154           6 BHK penthouse    3,500 sq ft  Sheikh Sarai Village  Delhi   \n",
       "\n",
       "       latitude  longitude    price currency  numBathrooms  numBalconies  \\\n",
       "2695  28.557659  77.212486   401012      INR           4.0           6.0   \n",
       "3961  28.577921  77.169373  1010102      INR           9.0           6.0   \n",
       "3964  28.531740  77.249138   854612      INR          10.0           6.0   \n",
       "4154  28.534254  77.221458   150000      INR           6.0           8.0   \n",
       "\n",
       "     isNegotiable  priceSqFt    verificationDate  \\\n",
       "2695          NaN        NaN   Posted a year ago   \n",
       "3961          NaN        NaN  Posted 3 years ago   \n",
       "3964          NaN        NaN  Posted 3 years ago   \n",
       "4154   Negotiable        NaN  Posted a month ago   \n",
       "\n",
       "                                            description SecurityDeposit  \\\n",
       "2695  Itâs a 5 bhk villa situated in Gulmohar park...       10,10,202   \n",
       "3961                                                NaN       30,10,111   \n",
       "3964                                                NaN       25,44,612   \n",
       "4154  This is a 6 BHK and 6 baths penthouse property...        3,00,000   \n",
       "\n",
       "           Status  \n",
       "2695  Unfurnished  \n",
       "3961  Unfurnished  \n",
       "3964  Unfurnished  \n",
       "4154    Furnished  "
      ]
     },
     "execution_count": 124,
     "metadata": {},
     "output_type": "execute_result"
    }
   ],
   "source": [
    "df[(df['numBalconies'] == 8.0) | (df['numBalconies'] == 6.0)]"
   ]
  },
  {
   "cell_type": "markdown",
   "id": "3a9f666a",
   "metadata": {
    "id": "3a9f666a",
    "papermill": {
     "duration": 0.019019,
     "end_time": "2024-08-14T13:49:29.581590",
     "exception": false,
     "start_time": "2024-08-14T13:49:29.562571",
     "status": "completed"
    },
    "tags": []
   },
   "source": [
    "1. Plot 1 follows a general upward trend where rent tends to increase with in increase number of bathrooms, where properties with 7 bathrooms have highest rent.\n",
    "\n",
    "2. Plot 2 shows a general upward trend where rent increases with the number of balconies, with properties having 6 balconies commanding the highest rent. However, it's important to note that rent drops significantly for property with 8 balconies. This decline could be due to the fact that the number of balconies exceeds the number of rooms, and the house size for 6 BHK units is relatively small, making the property feel cramped and less appealing."
   ]
  },
  {
   "cell_type": "code",
   "execution_count": 126,
   "id": "fc590af4",
   "metadata": {
    "colab": {
     "base_uri": "https://localhost:8080/",
     "height": 1000
    },
    "executionInfo": {
     "elapsed": 11127,
     "status": "ok",
     "timestamp": 1732010716266,
     "user": {
      "displayName": "Mayur Valvi",
      "userId": "08772129272918674075"
     },
     "user_tz": -330
    },
    "id": "fc590af4",
    "outputId": "b8475e31-f698-472c-fa8c-ae262579a041",
    "papermill": {
     "duration": 4.200225,
     "end_time": "2024-08-14T13:49:33.801153",
     "exception": false,
     "start_time": "2024-08-14T13:49:29.600928",
     "status": "completed"
    },
    "tags": []
   },
   "outputs": [
    {
     "data": {
      "image/png": "[encoded data removed]",
      "text/plain": [
       "<Figure size 640x480 with 1 Axes>"
      ]
     },
     "metadata": {},
     "output_type": "display_data"
    },
    {
     "data": {
      "image/png": "[encoded data removed]",
      "text/plain": [
       "<Figure size 640x480 with 1 Axes>"
      ]
     },
     "metadata": {},
     "output_type": "display_data"
    },
    {
     "data": {
      "image/png": "[encoded data removed]",
      "text/plain": [
       "<Figure size 640x480 with 1 Axes>"
      ]
     },
     "metadata": {},
     "output_type": "display_data"
    }
   ],
   "source": [
    "for feature in continuous:\n",
    "    sns.histplot(data = df,x = feature,kde=True)\n",
    "    plt.xlabel(feature)\n",
    "    plt.ylabel('Frequency')\n",
    "    plt.show()"
   ]
  },
  {
   "cell_type": "code",
   "execution_count": 127,
   "id": "84708548",
   "metadata": {
    "colab": {
     "base_uri": "https://localhost:8080/",
     "height": 143
    },
    "executionInfo": {
     "elapsed": 26,
     "status": "ok",
     "timestamp": 1732010716266,
     "user": {
      "displayName": "Mayur Valvi",
      "userId": "08772129272918674075"
     },
     "user_tz": -330
    },
    "id": "84708548",
    "outputId": "b4465fcb-f586-4b56-a311-bae06d49e27d",
    "papermill": {
     "duration": 0.04124,
     "end_time": "2024-08-14T13:49:33.868201",
     "exception": false,
     "start_time": "2024-08-14T13:49:33.826961",
     "status": "completed"
    },
    "tags": []
   },
   "outputs": [
    {
     "data": {
      "text/html": [
       "<div>\n",
       "<style scoped>\n",
       "    .dataframe tbody tr th:only-of-type {\n",
       "        vertical-align: middle;\n",
       "    }\n",
       "\n",
       "    .dataframe tbody tr th {\n",
       "        vertical-align: top;\n",
       "    }\n",
       "\n",
       "    .dataframe thead th {\n",
       "        text-align: right;\n",
       "    }\n",
       "</style>\n",
       "<table border=\"1\" class=\"dataframe\">\n",
       "  <thead>\n",
       "    <tr style=\"text-align: right;\">\n",
       "      <th></th>\n",
       "      <th>latitude</th>\n",
       "      <th>longitude</th>\n",
       "      <th>price</th>\n",
       "    </tr>\n",
       "  </thead>\n",
       "  <tbody>\n",
       "    <tr>\n",
       "      <th>latitude</th>\n",
       "      <td>1.000000</td>\n",
       "      <td>0.498180</td>\n",
       "      <td>-0.045589</td>\n",
       "    </tr>\n",
       "    <tr>\n",
       "      <th>longitude</th>\n",
       "      <td>0.498180</td>\n",
       "      <td>1.000000</td>\n",
       "      <td>0.133261</td>\n",
       "    </tr>\n",
       "    <tr>\n",
       "      <th>price</th>\n",
       "      <td>-0.045589</td>\n",
       "      <td>0.133261</td>\n",
       "      <td>1.000000</td>\n",
       "    </tr>\n",
       "  </tbody>\n",
       "</table>\n",
       "</div>"
      ],
      "text/plain": [
       "           latitude  longitude     price\n",
       "latitude   1.000000   0.498180 -0.045589\n",
       "longitude  0.498180   1.000000  0.133261\n",
       "price     -0.045589   0.133261  1.000000"
      ]
     },
     "execution_count": 127,
     "metadata": {},
     "output_type": "execute_result"
    }
   ],
   "source": [
    "df[['latitude','longitude','price']].corr()"
   ]
  },
  {
   "cell_type": "markdown",
   "id": "d3f20f55",
   "metadata": {
    "id": "d3f20f55",
    "papermill": {
     "duration": 0.020616,
     "end_time": "2024-08-14T13:49:33.909775",
     "exception": false,
     "start_time": "2024-08-14T13:49:33.889159",
     "status": "completed"
    },
    "tags": []
   },
   "source": [
    "The distribution for all continuous features looks skewed but since longitude and latitude don't have much impact on price, they can dropped. However rent is heavily right skewed and need to be normalized."
   ]
  },
  {
   "cell_type": "code",
   "execution_count": 129,
   "id": "e687e2e9",
   "metadata": {
    "colab": {
     "base_uri": "https://localhost:8080/",
     "height": 449
    },
    "executionInfo": {
     "elapsed": 24,
     "status": "ok",
     "timestamp": 1732010716266,
     "user": {
      "displayName": "Mayur Valvi",
      "userId": "08772129272918674075"
     },
     "user_tz": -330
    },
    "id": "e687e2e9",
    "outputId": "64e68ec9-9cbf-46bf-9b64-be04024f257e",
    "papermill": {
     "duration": 0.383443,
     "end_time": "2024-08-14T13:49:34.314780",
     "exception": false,
     "start_time": "2024-08-14T13:49:33.931337",
     "status": "completed"
    },
    "tags": []
   },
   "outputs": [
    {
     "data": {
      "image/png": "[encoded data removed]",
      "text/plain": [
       "<Figure size 640x480 with 1 Axes>"
      ]
     },
     "metadata": {},
     "output_type": "display_data"
    }
   ],
   "source": [
    "data = df.copy()\n",
    "data['price'] = np.log(data['price'])\n",
    "sns.histplot(data = data,x = 'price',kde=True)\n",
    "plt.xlabel(feature)\n",
    "plt.ylabel('Frequency')\n",
    "plt.show()"
   ]
  },
  {
   "cell_type": "markdown",
   "id": "9894c9dd",
   "metadata": {
    "id": "9894c9dd",
    "papermill": {
     "duration": 0.021228,
     "end_time": "2024-08-14T13:49:34.357782",
     "exception": false,
     "start_time": "2024-08-14T13:49:34.336554",
     "status": "completed"
    },
    "tags": []
   },
   "source": [
    "Log transformation helps remove skewness in rent price. The plot looks more centered with 2 peaks."
   ]
  },
  {
   "cell_type": "code",
   "execution_count": 131,
   "id": "717f7f7e",
   "metadata": {
    "colab": {
     "base_uri": "https://localhost:8080/"
    },
    "executionInfo": {
     "elapsed": 24,
     "status": "ok",
     "timestamp": 1732010716266,
     "user": {
      "displayName": "Mayur Valvi",
      "userId": "08772129272918674075"
     },
     "user_tz": -330
    },
    "id": "717f7f7e",
    "outputId": "edd20783-8189-47cf-fb7d-98cde4f334ea",
    "papermill": {
     "duration": 0.106515,
     "end_time": "2024-08-14T13:49:34.485941",
     "exception": false,
     "start_time": "2024-08-14T13:49:34.379426",
     "status": "completed"
    },
    "tags": []
   },
   "outputs": [
    {
     "name": "stdout",
     "output_type": "stream",
     "text": [
      "Cardinality of house_type is: 28\n",
      "Cardinality of house_size is: 339\n",
      "Cardinality of location is: 288\n",
      "Cardinality of city is: 1\n",
      "Cardinality of currency is: 1\n",
      "Cardinality of isNegotiable is: 1\n",
      "Cardinality of verificationDate is: 52\n",
      "Cardinality of description is: 3820\n",
      "Cardinality of SecurityDeposit is: 646\n",
      "Cardinality of Status is: 3\n"
     ]
    }
   ],
   "source": [
    "## Analysing Cateorical Features\n",
    "\n",
    "for feature in cat_feature:\n",
    "    print(f'Cardinality of {feature} is: {df[feature].nunique()}')"
   ]
  },
  {
   "cell_type": "markdown",
   "id": "9029a1e9",
   "metadata": {
    "id": "9029a1e9",
    "papermill": {
     "duration": 0.022976,
     "end_time": "2024-08-14T13:49:34.532244",
     "exception": false,
     "start_time": "2024-08-14T13:49:34.509268",
     "status": "completed"
    },
    "tags": []
   },
   "source": [
    "1. City and currency have only one type of value and since entire data as same value for both, they don't have impact on rent.\n",
    "2. It is very obvious that properties that are negotiable will have less rent.\n",
    "3. Only status as well defined categories with cardinalty 3. Rest of the features have high cardinality."
   ]
  },
  {
   "cell_type": "code",
   "execution_count": 133,
   "id": "fdf59a80",
   "metadata": {
    "colab": {
     "base_uri": "https://localhost:8080/",
     "height": 1000
    },
    "executionInfo": {
     "elapsed": 21,
     "status": "ok",
     "timestamp": 1732010716266,
     "user": {
      "displayName": "Mayur Valvi",
      "userId": "08772129272918674075"
     },
     "user_tz": -330
    },
    "id": "fdf59a80",
    "outputId": "f2b4a4ad-d85b-4b81-c452-a79c617c3d81",
    "papermill": {
     "duration": 0.058002,
     "end_time": "2024-08-14T13:49:34.613298",
     "exception": false,
     "start_time": "2024-08-14T13:49:34.555296",
     "status": "completed"
    },
    "tags": []
   },
   "outputs": [
    {
     "data": {
      "text/html": [
       "<div>\n",
       "<style scoped>\n",
       "    .dataframe tbody tr th:only-of-type {\n",
       "        vertical-align: middle;\n",
       "    }\n",
       "\n",
       "    .dataframe tbody tr th {\n",
       "        vertical-align: top;\n",
       "    }\n",
       "\n",
       "    .dataframe thead th {\n",
       "        text-align: right;\n",
       "    }\n",
       "</style>\n",
       "<table border=\"1\" class=\"dataframe\">\n",
       "  <thead>\n",
       "    <tr style=\"text-align: right;\">\n",
       "      <th></th>\n",
       "      <th>house_type</th>\n",
       "      <th>house_size</th>\n",
       "      <th>location</th>\n",
       "      <th>city</th>\n",
       "      <th>latitude</th>\n",
       "      <th>longitude</th>\n",
       "      <th>price</th>\n",
       "      <th>currency</th>\n",
       "      <th>numBathrooms</th>\n",
       "      <th>numBalconies</th>\n",
       "      <th>isNegotiable</th>\n",
       "      <th>priceSqFt</th>\n",
       "      <th>verificationDate</th>\n",
       "      <th>description</th>\n",
       "      <th>SecurityDeposit</th>\n",
       "      <th>Status</th>\n",
       "    </tr>\n",
       "  </thead>\n",
       "  <tbody>\n",
       "    <tr>\n",
       "      <th>42</th>\n",
       "      <td>8 BHK Independent Floor</td>\n",
       "      <td>7,200 sq ft</td>\n",
       "      <td>DLF Farms</td>\n",
       "      <td>Delhi</td>\n",
       "      <td>28.488153</td>\n",
       "      <td>77.156975</td>\n",
       "      <td>1400000</td>\n",
       "      <td>INR</td>\n",
       "      <td>8.0</td>\n",
       "      <td>NaN</td>\n",
       "      <td>NaN</td>\n",
       "      <td>NaN</td>\n",
       "      <td>Posted 3 years ago</td>\n",
       "      <td>Itâs a 8 bhk builder floor situated in DLF F...</td>\n",
       "      <td>No Deposit</td>\n",
       "      <td>Semi-Furnished</td>\n",
       "    </tr>\n",
       "    <tr>\n",
       "      <th>558</th>\n",
       "      <td>8 BHK Independent Floor</td>\n",
       "      <td>7,200 sq ft</td>\n",
       "      <td>DLF Farms</td>\n",
       "      <td>Delhi</td>\n",
       "      <td>28.488153</td>\n",
       "      <td>77.156975</td>\n",
       "      <td>1400000</td>\n",
       "      <td>INR</td>\n",
       "      <td>8.0</td>\n",
       "      <td>NaN</td>\n",
       "      <td>NaN</td>\n",
       "      <td>NaN</td>\n",
       "      <td>Posted 3 years ago</td>\n",
       "      <td>Well designed 8 bhk builder floor is available...</td>\n",
       "      <td>No Deposit</td>\n",
       "      <td>Semi-Furnished</td>\n",
       "    </tr>\n",
       "    <tr>\n",
       "      <th>695</th>\n",
       "      <td>4 BHK Independent House</td>\n",
       "      <td>7,000 sq ft</td>\n",
       "      <td>Central Ridge Reserve Forest</td>\n",
       "      <td>Delhi</td>\n",
       "      <td>28.606810</td>\n",
       "      <td>77.183601</td>\n",
       "      <td>2000000</td>\n",
       "      <td>INR</td>\n",
       "      <td>4.0</td>\n",
       "      <td>NaN</td>\n",
       "      <td>NaN</td>\n",
       "      <td>NaN</td>\n",
       "      <td>Posted 2 months ago</td>\n",
       "      <td>Itâs a 4 bhk independent house situated in C...</td>\n",
       "      <td>No Deposit</td>\n",
       "      <td>Semi-Furnished</td>\n",
       "    </tr>\n",
       "    <tr>\n",
       "      <th>940</th>\n",
       "      <td>7 BHK Independent Floor</td>\n",
       "      <td>9,000 sq ft</td>\n",
       "      <td>Greater Kailash</td>\n",
       "      <td>Delhi</td>\n",
       "      <td>28.550154</td>\n",
       "      <td>77.241455</td>\n",
       "      <td>1000000</td>\n",
       "      <td>INR</td>\n",
       "      <td>7.0</td>\n",
       "      <td>NaN</td>\n",
       "      <td>NaN</td>\n",
       "      <td>NaN</td>\n",
       "      <td>Posted 16 days ago</td>\n",
       "      <td>A 7 bhk property is available for rental in Gr...</td>\n",
       "      <td>No Deposit</td>\n",
       "      <td>Semi-Furnished</td>\n",
       "    </tr>\n",
       "    <tr>\n",
       "      <th>973</th>\n",
       "      <td>10 BHK Independent House</td>\n",
       "      <td>5,200 sq ft</td>\n",
       "      <td>Hauz Khas</td>\n",
       "      <td>Delhi</td>\n",
       "      <td>28.550165</td>\n",
       "      <td>77.196457</td>\n",
       "      <td>900000</td>\n",
       "      <td>INR</td>\n",
       "      <td>9.0</td>\n",
       "      <td>NaN</td>\n",
       "      <td>NaN</td>\n",
       "      <td>NaN</td>\n",
       "      <td>Posted 16 days ago</td>\n",
       "      <td>A spacious 10 bhk independent house is availab...</td>\n",
       "      <td>No Deposit</td>\n",
       "      <td>Semi-Furnished</td>\n",
       "    </tr>\n",
       "    <tr>\n",
       "      <th>...</th>\n",
       "      <td>...</td>\n",
       "      <td>...</td>\n",
       "      <td>...</td>\n",
       "      <td>...</td>\n",
       "      <td>...</td>\n",
       "      <td>...</td>\n",
       "      <td>...</td>\n",
       "      <td>...</td>\n",
       "      <td>...</td>\n",
       "      <td>...</td>\n",
       "      <td>...</td>\n",
       "      <td>...</td>\n",
       "      <td>...</td>\n",
       "      <td>...</td>\n",
       "      <td>...</td>\n",
       "      <td>...</td>\n",
       "    </tr>\n",
       "    <tr>\n",
       "      <th>4992</th>\n",
       "      <td>4 BHK Villa</td>\n",
       "      <td>5,896 sq ft</td>\n",
       "      <td>Sunder Nagar</td>\n",
       "      <td>Delhi</td>\n",
       "      <td>28.618437</td>\n",
       "      <td>76.961784</td>\n",
       "      <td>1401100</td>\n",
       "      <td>INR</td>\n",
       "      <td>4.0</td>\n",
       "      <td>2.0</td>\n",
       "      <td>NaN</td>\n",
       "      <td>NaN</td>\n",
       "      <td>Posted 2 months ago</td>\n",
       "      <td>Its four bhk villa in the super location of De...</td>\n",
       "      <td>45,20,105</td>\n",
       "      <td>Unfurnished</td>\n",
       "    </tr>\n",
       "    <tr>\n",
       "      <th>4993</th>\n",
       "      <td>4 BHK Villa</td>\n",
       "      <td>5,896 sq ft</td>\n",
       "      <td>Sunder Nagar</td>\n",
       "      <td>Delhi</td>\n",
       "      <td>28.618437</td>\n",
       "      <td>76.961784</td>\n",
       "      <td>1202012</td>\n",
       "      <td>INR</td>\n",
       "      <td>4.0</td>\n",
       "      <td>2.0</td>\n",
       "      <td>NaN</td>\n",
       "      <td>NaN</td>\n",
       "      <td>Posted 2 months ago</td>\n",
       "      <td>Its four bhk villa in the super location of De...</td>\n",
       "      <td>40,11,010</td>\n",
       "      <td>Unfurnished</td>\n",
       "    </tr>\n",
       "    <tr>\n",
       "      <th>4994</th>\n",
       "      <td>4 BHK Villa</td>\n",
       "      <td>5,896 sq ft</td>\n",
       "      <td>Sunder Nagar</td>\n",
       "      <td>Delhi</td>\n",
       "      <td>28.618437</td>\n",
       "      <td>76.961784</td>\n",
       "      <td>1022001</td>\n",
       "      <td>INR</td>\n",
       "      <td>4.0</td>\n",
       "      <td>2.0</td>\n",
       "      <td>NaN</td>\n",
       "      <td>NaN</td>\n",
       "      <td>Posted 2 months ago</td>\n",
       "      <td>Its four bhk villa in the super location of De...</td>\n",
       "      <td>40,10,102</td>\n",
       "      <td>Unfurnished</td>\n",
       "    </tr>\n",
       "    <tr>\n",
       "      <th>4995</th>\n",
       "      <td>4 BHK Villa</td>\n",
       "      <td>5,896 sq ft</td>\n",
       "      <td>Sunder Nagar</td>\n",
       "      <td>Delhi</td>\n",
       "      <td>28.618437</td>\n",
       "      <td>76.961784</td>\n",
       "      <td>1022001</td>\n",
       "      <td>INR</td>\n",
       "      <td>4.0</td>\n",
       "      <td>2.0</td>\n",
       "      <td>NaN</td>\n",
       "      <td>NaN</td>\n",
       "      <td>Posted 2 months ago</td>\n",
       "      <td>Its four bhk villa in the super location of De...</td>\n",
       "      <td>40,10,102</td>\n",
       "      <td>Unfurnished</td>\n",
       "    </tr>\n",
       "    <tr>\n",
       "      <th>4996</th>\n",
       "      <td>5 BHK Independent House</td>\n",
       "      <td>6,521 sq ft</td>\n",
       "      <td>Sunder Nagar</td>\n",
       "      <td>Delhi</td>\n",
       "      <td>28.618437</td>\n",
       "      <td>76.961784</td>\n",
       "      <td>1549181</td>\n",
       "      <td>INR</td>\n",
       "      <td>4.0</td>\n",
       "      <td>2.0</td>\n",
       "      <td>NaN</td>\n",
       "      <td>NaN</td>\n",
       "      <td>Posted 2 months ago</td>\n",
       "      <td>A 5 bhk property is available for rent in Sund...</td>\n",
       "      <td>54,01,015</td>\n",
       "      <td>Unfurnished</td>\n",
       "    </tr>\n",
       "  </tbody>\n",
       "</table>\n",
       "<p>197 rows × 16 columns</p>\n",
       "</div>"
      ],
      "text/plain": [
       "                     house_type   house_size                      location  \\\n",
       "42     8 BHK Independent Floor   7,200 sq ft                     DLF Farms   \n",
       "558    8 BHK Independent Floor   7,200 sq ft                     DLF Farms   \n",
       "695    4 BHK Independent House   7,000 sq ft  Central Ridge Reserve Forest   \n",
       "940    7 BHK Independent Floor   9,000 sq ft               Greater Kailash   \n",
       "973   10 BHK Independent House   5,200 sq ft                     Hauz Khas   \n",
       "...                         ...          ...                           ...   \n",
       "4992               4 BHK Villa   5,896 sq ft                  Sunder Nagar   \n",
       "4993               4 BHK Villa   5,896 sq ft                  Sunder Nagar   \n",
       "4994               4 BHK Villa   5,896 sq ft                  Sunder Nagar   \n",
       "4995               4 BHK Villa   5,896 sq ft                  Sunder Nagar   \n",
       "4996   5 BHK Independent House   6,521 sq ft                  Sunder Nagar   \n",
       "\n",
       "       city   latitude  longitude    price currency  numBathrooms  \\\n",
       "42    Delhi  28.488153  77.156975  1400000      INR           8.0   \n",
       "558   Delhi  28.488153  77.156975  1400000      INR           8.0   \n",
       "695   Delhi  28.606810  77.183601  2000000      INR           4.0   \n",
       "940   Delhi  28.550154  77.241455  1000000      INR           7.0   \n",
       "973   Delhi  28.550165  77.196457   900000      INR           9.0   \n",
       "...     ...        ...        ...      ...      ...           ...   \n",
       "4992  Delhi  28.618437  76.961784  1401100      INR           4.0   \n",
       "4993  Delhi  28.618437  76.961784  1202012      INR           4.0   \n",
       "4994  Delhi  28.618437  76.961784  1022001      INR           4.0   \n",
       "4995  Delhi  28.618437  76.961784  1022001      INR           4.0   \n",
       "4996  Delhi  28.618437  76.961784  1549181      INR           4.0   \n",
       "\n",
       "      numBalconies isNegotiable  priceSqFt     verificationDate  \\\n",
       "42             NaN          NaN        NaN   Posted 3 years ago   \n",
       "558            NaN          NaN        NaN   Posted 3 years ago   \n",
       "695            NaN          NaN        NaN  Posted 2 months ago   \n",
       "940            NaN          NaN        NaN   Posted 16 days ago   \n",
       "973            NaN          NaN        NaN   Posted 16 days ago   \n",
       "...            ...          ...        ...                  ...   \n",
       "4992           2.0          NaN        NaN  Posted 2 months ago   \n",
       "4993           2.0          NaN        NaN  Posted 2 months ago   \n",
       "4994           2.0          NaN        NaN  Posted 2 months ago   \n",
       "4995           2.0          NaN        NaN  Posted 2 months ago   \n",
       "4996           2.0          NaN        NaN  Posted 2 months ago   \n",
       "\n",
       "                                            description SecurityDeposit  \\\n",
       "42    Itâs a 8 bhk builder floor situated in DLF F...      No Deposit   \n",
       "558   Well designed 8 bhk builder floor is available...      No Deposit   \n",
       "695   Itâs a 4 bhk independent house situated in C...      No Deposit   \n",
       "940   A 7 bhk property is available for rental in Gr...      No Deposit   \n",
       "973   A spacious 10 bhk independent house is availab...      No Deposit   \n",
       "...                                                 ...             ...   \n",
       "4992  Its four bhk villa in the super location of De...       45,20,105   \n",
       "4993  Its four bhk villa in the super location of De...       40,11,010   \n",
       "4994  Its four bhk villa in the super location of De...       40,10,102   \n",
       "4995  Its four bhk villa in the super location of De...       40,10,102   \n",
       "4996  A 5 bhk property is available for rent in Sund...       54,01,015   \n",
       "\n",
       "              Status  \n",
       "42    Semi-Furnished  \n",
       "558   Semi-Furnished  \n",
       "695   Semi-Furnished  \n",
       "940   Semi-Furnished  \n",
       "973   Semi-Furnished  \n",
       "...              ...  \n",
       "4992     Unfurnished  \n",
       "4993     Unfurnished  \n",
       "4994     Unfurnished  \n",
       "4995     Unfurnished  \n",
       "4996     Unfurnished  \n",
       "\n",
       "[197 rows x 16 columns]"
      ]
     },
     "execution_count": 133,
     "metadata": {},
     "output_type": "execute_result"
    }
   ],
   "source": [
    "## Outlier Detection\n",
    "\n",
    "Q1,Q3= df['price'].quantile([0.25,0.75])\n",
    "\n",
    "IQR = Q3-Q1\n",
    "\n",
    "ub = Q3 + (1.5 * IQR)\n",
    "lb = Q1 - (1.5 * IQR)\n",
    "\n",
    "df[(df['price'] < lb) | (df['price'] > ub )]"
   ]
  },
  {
   "cell_type": "code",
   "execution_count": 134,
   "id": "56c53b1b",
   "metadata": {
    "colab": {
     "base_uri": "https://localhost:8080/",
     "height": 411
    },
    "executionInfo": {
     "elapsed": 500,
     "status": "ok",
     "timestamp": 1732010716745,
     "user": {
      "displayName": "Mayur Valvi",
      "userId": "08772129272918674075"
     },
     "user_tz": -330
    },
    "id": "56c53b1b",
    "outputId": "259b15d3-e7a2-42d6-cb9e-259c14a969af",
    "papermill": {
     "duration": 0.24372,
     "end_time": "2024-08-14T13:49:34.880686",
     "exception": false,
     "start_time": "2024-08-14T13:49:34.636966",
     "status": "completed"
    },
    "tags": []
   },
   "outputs": [
    {
     "data": {
      "image/png": "[encoded data removed]",
      "text/plain": [
       "<Figure size 640x480 with 1 Axes>"
      ]
     },
     "metadata": {},
     "output_type": "display_data"
    }
   ],
   "source": [
    "data = df.copy()\n",
    "data['price'] = np.log(data['price'])\n",
    "sns.boxplot(data = data,y = 'price')\n",
    "plt.ylabel('Rent')\n",
    "plt.show()"
   ]
  },
  {
   "cell_type": "markdown",
   "id": "0b638b6d",
   "metadata": {
    "id": "0b638b6d",
    "papermill": {
     "duration": 0.022585,
     "end_time": "2024-08-14T13:49:34.926286",
     "exception": false,
     "start_time": "2024-08-14T13:49:34.903701",
     "status": "completed"
    },
    "tags": []
   },
   "source": [
    "Looks like there are no outliers post log transformation as the rent gets normalised."
   ]
  },
  {
   "cell_type": "markdown",
   "id": "f02c8cec",
   "metadata": {
    "id": "f02c8cec",
    "papermill": {
     "duration": 0.023038,
     "end_time": "2024-08-14T13:49:34.972258",
     "exception": false,
     "start_time": "2024-08-14T13:49:34.949220",
     "status": "completed"
    },
    "tags": []
   },
   "source": [
    "# 4. Feature Engineering"
   ]
  },
  {
   "cell_type": "code",
   "execution_count": 137,
   "id": "33f6dc2c",
   "metadata": {
    "colab": {
     "base_uri": "https://localhost:8080/",
     "height": 347
    },
    "executionInfo": {
     "elapsed": 21,
     "status": "ok",
     "timestamp": 1732010716745,
     "user": {
      "displayName": "Mayur Valvi",
      "userId": "08772129272918674075"
     },
     "user_tz": -330
    },
    "id": "33f6dc2c",
    "outputId": "39330d2a-e080-4384-d3ae-5deeafd0acf7",
    "papermill": {
     "duration": 0.04954,
     "end_time": "2024-08-14T13:49:35.046698",
     "exception": false,
     "start_time": "2024-08-14T13:49:34.997158",
     "status": "completed"
    },
    "tags": []
   },
   "outputs": [
    {
     "data": {
      "text/html": [
       "<div>\n",
       "<style scoped>\n",
       "    .dataframe tbody tr th:only-of-type {\n",
       "        vertical-align: middle;\n",
       "    }\n",
       "\n",
       "    .dataframe tbody tr th {\n",
       "        vertical-align: top;\n",
       "    }\n",
       "\n",
       "    .dataframe thead th {\n",
       "        text-align: right;\n",
       "    }\n",
       "</style>\n",
       "<table border=\"1\" class=\"dataframe\">\n",
       "  <thead>\n",
       "    <tr style=\"text-align: right;\">\n",
       "      <th></th>\n",
       "      <th>house_type</th>\n",
       "      <th>house_size</th>\n",
       "      <th>location</th>\n",
       "      <th>latitude</th>\n",
       "      <th>longitude</th>\n",
       "      <th>price</th>\n",
       "      <th>numBathrooms</th>\n",
       "      <th>numBalconies</th>\n",
       "      <th>isNegotiable</th>\n",
       "      <th>verificationDate</th>\n",
       "      <th>SecurityDeposit</th>\n",
       "      <th>Status</th>\n",
       "    </tr>\n",
       "  </thead>\n",
       "  <tbody>\n",
       "    <tr>\n",
       "      <th>0</th>\n",
       "      <td>1 RK Studio Apartment</td>\n",
       "      <td>400 sq ft</td>\n",
       "      <td>Kalkaji</td>\n",
       "      <td>28.545561</td>\n",
       "      <td>77.254349</td>\n",
       "      <td>22000</td>\n",
       "      <td>1.0</td>\n",
       "      <td>NaN</td>\n",
       "      <td>NaN</td>\n",
       "      <td>Posted a day ago</td>\n",
       "      <td>No Deposit</td>\n",
       "      <td>Furnished</td>\n",
       "    </tr>\n",
       "    <tr>\n",
       "      <th>1</th>\n",
       "      <td>1 RK Studio Apartment</td>\n",
       "      <td>400 sq ft</td>\n",
       "      <td>Mansarover Garden</td>\n",
       "      <td>28.643259</td>\n",
       "      <td>77.132828</td>\n",
       "      <td>20000</td>\n",
       "      <td>1.0</td>\n",
       "      <td>NaN</td>\n",
       "      <td>NaN</td>\n",
       "      <td>Posted 9 days ago</td>\n",
       "      <td>No Deposit</td>\n",
       "      <td>Furnished</td>\n",
       "    </tr>\n",
       "    <tr>\n",
       "      <th>2</th>\n",
       "      <td>2 BHK Independent Floor</td>\n",
       "      <td>500 sq ft</td>\n",
       "      <td>Uttam Nagar</td>\n",
       "      <td>28.618677</td>\n",
       "      <td>77.053352</td>\n",
       "      <td>8500</td>\n",
       "      <td>1.0</td>\n",
       "      <td>NaN</td>\n",
       "      <td>NaN</td>\n",
       "      <td>Posted 12 days ago</td>\n",
       "      <td>No Deposit</td>\n",
       "      <td>Semi-Furnished</td>\n",
       "    </tr>\n",
       "    <tr>\n",
       "      <th>3</th>\n",
       "      <td>3 BHK Independent House</td>\n",
       "      <td>1,020 sq ft</td>\n",
       "      <td>Model Town</td>\n",
       "      <td>28.712898</td>\n",
       "      <td>77.180000</td>\n",
       "      <td>48000</td>\n",
       "      <td>3.0</td>\n",
       "      <td>NaN</td>\n",
       "      <td>NaN</td>\n",
       "      <td>Posted a year ago</td>\n",
       "      <td>No Deposit</td>\n",
       "      <td>Furnished</td>\n",
       "    </tr>\n",
       "    <tr>\n",
       "      <th>4</th>\n",
       "      <td>2 BHK Apartment</td>\n",
       "      <td>810 sq ft</td>\n",
       "      <td>Sector 13 Rohini</td>\n",
       "      <td>28.723539</td>\n",
       "      <td>77.131424</td>\n",
       "      <td>20000</td>\n",
       "      <td>2.0</td>\n",
       "      <td>NaN</td>\n",
       "      <td>NaN</td>\n",
       "      <td>Posted a year ago</td>\n",
       "      <td>No Deposit</td>\n",
       "      <td>Unfurnished</td>\n",
       "    </tr>\n",
       "  </tbody>\n",
       "</table>\n",
       "</div>"
      ],
      "text/plain": [
       "                 house_type   house_size           location   latitude  \\\n",
       "0    1 RK Studio Apartment     400 sq ft            Kalkaji  28.545561   \n",
       "1    1 RK Studio Apartment     400 sq ft  Mansarover Garden  28.643259   \n",
       "2  2 BHK Independent Floor     500 sq ft        Uttam Nagar  28.618677   \n",
       "3  3 BHK Independent House   1,020 sq ft         Model Town  28.712898   \n",
       "4          2 BHK Apartment     810 sq ft   Sector 13 Rohini  28.723539   \n",
       "\n",
       "   longitude  price  numBathrooms  numBalconies isNegotiable  \\\n",
       "0  77.254349  22000           1.0           NaN          NaN   \n",
       "1  77.132828  20000           1.0           NaN          NaN   \n",
       "2  77.053352   8500           1.0           NaN          NaN   \n",
       "3  77.180000  48000           3.0           NaN          NaN   \n",
       "4  77.131424  20000           2.0           NaN          NaN   \n",
       "\n",
       "     verificationDate SecurityDeposit          Status  \n",
       "0    Posted a day ago      No Deposit       Furnished  \n",
       "1   Posted 9 days ago      No Deposit       Furnished  \n",
       "2  Posted 12 days ago      No Deposit  Semi-Furnished  \n",
       "3   Posted a year ago      No Deposit       Furnished  \n",
       "4   Posted a year ago      No Deposit     Unfurnished  "
      ]
     },
     "execution_count": 137,
     "metadata": {},
     "output_type": "execute_result"
    }
   ],
   "source": [
    "#removing unwanted columns\n",
    "\n",
    "df2 = df.copy()\n",
    "df2.drop(['priceSqFt','description','city','currency'], axis=1,inplace=True)\n",
    "df2.head()"
   ]
  },
  {
   "cell_type": "code",
   "execution_count": 138,
   "id": "1699b145",
   "metadata": {
    "colab": {
     "base_uri": "https://localhost:8080/",
     "height": 347
    },
    "executionInfo": {
     "elapsed": 21,
     "status": "ok",
     "timestamp": 1732010716746,
     "user": {
      "displayName": "Mayur Valvi",
      "userId": "08772129272918674075"
     },
     "user_tz": -330
    },
    "id": "1699b145",
    "outputId": "89fa8c68-2aff-4707-da7f-b7e90f798b52",
    "papermill": {
     "duration": 0.058172,
     "end_time": "2024-08-14T13:49:35.128307",
     "exception": false,
     "start_time": "2024-08-14T13:49:35.070135",
     "status": "completed"
    },
    "tags": []
   },
   "outputs": [
    {
     "data": {
      "text/html": [
       "<div>\n",
       "<style scoped>\n",
       "    .dataframe tbody tr th:only-of-type {\n",
       "        vertical-align: middle;\n",
       "    }\n",
       "\n",
       "    .dataframe tbody tr th {\n",
       "        vertical-align: top;\n",
       "    }\n",
       "\n",
       "    .dataframe thead th {\n",
       "        text-align: right;\n",
       "    }\n",
       "</style>\n",
       "<table border=\"1\" class=\"dataframe\">\n",
       "  <thead>\n",
       "    <tr style=\"text-align: right;\">\n",
       "      <th></th>\n",
       "      <th>house_type</th>\n",
       "      <th>house_size</th>\n",
       "      <th>location</th>\n",
       "      <th>latitude</th>\n",
       "      <th>longitude</th>\n",
       "      <th>price</th>\n",
       "      <th>numBathrooms</th>\n",
       "      <th>numBalconies</th>\n",
       "      <th>isNegotiable</th>\n",
       "      <th>verificationDate</th>\n",
       "      <th>SecurityDeposit</th>\n",
       "      <th>Status</th>\n",
       "      <th>isNegotiable_nan</th>\n",
       "    </tr>\n",
       "  </thead>\n",
       "  <tbody>\n",
       "    <tr>\n",
       "      <th>0</th>\n",
       "      <td>1 RK Studio Apartment</td>\n",
       "      <td>400 sq ft</td>\n",
       "      <td>Kalkaji</td>\n",
       "      <td>28.545561</td>\n",
       "      <td>77.254349</td>\n",
       "      <td>22000</td>\n",
       "      <td>1.0</td>\n",
       "      <td>NaN</td>\n",
       "      <td>Missing</td>\n",
       "      <td>Posted a day ago</td>\n",
       "      <td>No Deposit</td>\n",
       "      <td>Furnished</td>\n",
       "      <td>1</td>\n",
       "    </tr>\n",
       "    <tr>\n",
       "      <th>1</th>\n",
       "      <td>1 RK Studio Apartment</td>\n",
       "      <td>400 sq ft</td>\n",
       "      <td>Mansarover Garden</td>\n",
       "      <td>28.643259</td>\n",
       "      <td>77.132828</td>\n",
       "      <td>20000</td>\n",
       "      <td>1.0</td>\n",
       "      <td>NaN</td>\n",
       "      <td>Missing</td>\n",
       "      <td>Posted 9 days ago</td>\n",
       "      <td>No Deposit</td>\n",
       "      <td>Furnished</td>\n",
       "      <td>1</td>\n",
       "    </tr>\n",
       "    <tr>\n",
       "      <th>2</th>\n",
       "      <td>2 BHK Independent Floor</td>\n",
       "      <td>500 sq ft</td>\n",
       "      <td>Uttam Nagar</td>\n",
       "      <td>28.618677</td>\n",
       "      <td>77.053352</td>\n",
       "      <td>8500</td>\n",
       "      <td>1.0</td>\n",
       "      <td>NaN</td>\n",
       "      <td>Missing</td>\n",
       "      <td>Posted 12 days ago</td>\n",
       "      <td>No Deposit</td>\n",
       "      <td>Semi-Furnished</td>\n",
       "      <td>1</td>\n",
       "    </tr>\n",
       "    <tr>\n",
       "      <th>3</th>\n",
       "      <td>3 BHK Independent House</td>\n",
       "      <td>1,020 sq ft</td>\n",
       "      <td>Model Town</td>\n",
       "      <td>28.712898</td>\n",
       "      <td>77.180000</td>\n",
       "      <td>48000</td>\n",
       "      <td>3.0</td>\n",
       "      <td>NaN</td>\n",
       "      <td>Missing</td>\n",
       "      <td>Posted a year ago</td>\n",
       "      <td>No Deposit</td>\n",
       "      <td>Furnished</td>\n",
       "      <td>1</td>\n",
       "    </tr>\n",
       "    <tr>\n",
       "      <th>4</th>\n",
       "      <td>2 BHK Apartment</td>\n",
       "      <td>810 sq ft</td>\n",
       "      <td>Sector 13 Rohini</td>\n",
       "      <td>28.723539</td>\n",
       "      <td>77.131424</td>\n",
       "      <td>20000</td>\n",
       "      <td>2.0</td>\n",
       "      <td>NaN</td>\n",
       "      <td>Missing</td>\n",
       "      <td>Posted a year ago</td>\n",
       "      <td>No Deposit</td>\n",
       "      <td>Unfurnished</td>\n",
       "      <td>1</td>\n",
       "    </tr>\n",
       "  </tbody>\n",
       "</table>\n",
       "</div>"
      ],
      "text/plain": [
       "                 house_type   house_size           location   latitude  \\\n",
       "0    1 RK Studio Apartment     400 sq ft            Kalkaji  28.545561   \n",
       "1    1 RK Studio Apartment     400 sq ft  Mansarover Garden  28.643259   \n",
       "2  2 BHK Independent Floor     500 sq ft        Uttam Nagar  28.618677   \n",
       "3  3 BHK Independent House   1,020 sq ft         Model Town  28.712898   \n",
       "4          2 BHK Apartment     810 sq ft   Sector 13 Rohini  28.723539   \n",
       "\n",
       "   longitude  price  numBathrooms  numBalconies isNegotiable  \\\n",
       "0  77.254349  22000           1.0           NaN      Missing   \n",
       "1  77.132828  20000           1.0           NaN      Missing   \n",
       "2  77.053352   8500           1.0           NaN      Missing   \n",
       "3  77.180000  48000           3.0           NaN      Missing   \n",
       "4  77.131424  20000           2.0           NaN      Missing   \n",
       "\n",
       "     verificationDate SecurityDeposit          Status  isNegotiable_nan  \n",
       "0    Posted a day ago      No Deposit       Furnished                 1  \n",
       "1   Posted 9 days ago      No Deposit       Furnished                 1  \n",
       "2  Posted 12 days ago      No Deposit  Semi-Furnished                 1  \n",
       "3   Posted a year ago      No Deposit       Furnished                 1  \n",
       "4   Posted a year ago      No Deposit     Unfurnished                 1  "
      ]
     },
     "execution_count": 138,
     "metadata": {},
     "output_type": "execute_result"
    }
   ],
   "source": [
    "## Handling missing values for categorical features\n",
    "cat_nan = [feature for feature in df2.columns if df2[feature].isnull().sum() >1 and df2[feature].dtype == 'O']\n",
    "\n",
    "for feature in cat_nan:\n",
    "    df2[feature+'_'+'nan']=np.where(df2[feature].isnull(),1,0)\n",
    "    df2[feature].fillna('Missing',inplace=True)\n",
    "\n",
    "df2.head()"
   ]
  },
  {
   "cell_type": "code",
   "execution_count": 139,
   "id": "115ee136",
   "metadata": {
    "colab": {
     "base_uri": "https://localhost:8080/",
     "height": 347
    },
    "executionInfo": {
     "elapsed": 20,
     "status": "ok",
     "timestamp": 1732010716746,
     "user": {
      "displayName": "Mayur Valvi",
      "userId": "08772129272918674075"
     },
     "user_tz": -330
    },
    "id": "115ee136",
    "outputId": "edc80d7c-cbe0-4435-d04a-cc2cae5391dd",
    "papermill": {
     "duration": 0.066027,
     "end_time": "2024-08-14T13:49:35.218550",
     "exception": false,
     "start_time": "2024-08-14T13:49:35.152523",
     "status": "completed"
    },
    "tags": []
   },
   "outputs": [
    {
     "data": {
      "text/html": [
       "<div>\n",
       "<style scoped>\n",
       "    .dataframe tbody tr th:only-of-type {\n",
       "        vertical-align: middle;\n",
       "    }\n",
       "\n",
       "    .dataframe tbody tr th {\n",
       "        vertical-align: top;\n",
       "    }\n",
       "\n",
       "    .dataframe thead th {\n",
       "        text-align: right;\n",
       "    }\n",
       "</style>\n",
       "<table border=\"1\" class=\"dataframe\">\n",
       "  <thead>\n",
       "    <tr style=\"text-align: right;\">\n",
       "      <th></th>\n",
       "      <th>house_type</th>\n",
       "      <th>house_size</th>\n",
       "      <th>location</th>\n",
       "      <th>latitude</th>\n",
       "      <th>longitude</th>\n",
       "      <th>price</th>\n",
       "      <th>numBathrooms</th>\n",
       "      <th>numBalconies</th>\n",
       "      <th>isNegotiable</th>\n",
       "      <th>verificationDate</th>\n",
       "      <th>SecurityDeposit</th>\n",
       "      <th>Status</th>\n",
       "      <th>isNegotiable_nan</th>\n",
       "      <th>numBathrooms_nan</th>\n",
       "      <th>numBalconies_nan</th>\n",
       "    </tr>\n",
       "  </thead>\n",
       "  <tbody>\n",
       "    <tr>\n",
       "      <th>0</th>\n",
       "      <td>1 RK Studio Apartment</td>\n",
       "      <td>400 sq ft</td>\n",
       "      <td>Kalkaji</td>\n",
       "      <td>28.545561</td>\n",
       "      <td>77.254349</td>\n",
       "      <td>22000</td>\n",
       "      <td>1.0</td>\n",
       "      <td>2.0</td>\n",
       "      <td>Missing</td>\n",
       "      <td>Posted a day ago</td>\n",
       "      <td>No Deposit</td>\n",
       "      <td>Furnished</td>\n",
       "      <td>1</td>\n",
       "      <td>0</td>\n",
       "      <td>1</td>\n",
       "    </tr>\n",
       "    <tr>\n",
       "      <th>1</th>\n",
       "      <td>1 RK Studio Apartment</td>\n",
       "      <td>400 sq ft</td>\n",
       "      <td>Mansarover Garden</td>\n",
       "      <td>28.643259</td>\n",
       "      <td>77.132828</td>\n",
       "      <td>20000</td>\n",
       "      <td>1.0</td>\n",
       "      <td>2.0</td>\n",
       "      <td>Missing</td>\n",
       "      <td>Posted 9 days ago</td>\n",
       "      <td>No Deposit</td>\n",
       "      <td>Furnished</td>\n",
       "      <td>1</td>\n",
       "      <td>0</td>\n",
       "      <td>1</td>\n",
       "    </tr>\n",
       "    <tr>\n",
       "      <th>2</th>\n",
       "      <td>2 BHK Independent Floor</td>\n",
       "      <td>500 sq ft</td>\n",
       "      <td>Uttam Nagar</td>\n",
       "      <td>28.618677</td>\n",
       "      <td>77.053352</td>\n",
       "      <td>8500</td>\n",
       "      <td>1.0</td>\n",
       "      <td>2.0</td>\n",
       "      <td>Missing</td>\n",
       "      <td>Posted 12 days ago</td>\n",
       "      <td>No Deposit</td>\n",
       "      <td>Semi-Furnished</td>\n",
       "      <td>1</td>\n",
       "      <td>0</td>\n",
       "      <td>1</td>\n",
       "    </tr>\n",
       "    <tr>\n",
       "      <th>3</th>\n",
       "      <td>3 BHK Independent House</td>\n",
       "      <td>1,020 sq ft</td>\n",
       "      <td>Model Town</td>\n",
       "      <td>28.712898</td>\n",
       "      <td>77.180000</td>\n",
       "      <td>48000</td>\n",
       "      <td>3.0</td>\n",
       "      <td>2.0</td>\n",
       "      <td>Missing</td>\n",
       "      <td>Posted a year ago</td>\n",
       "      <td>No Deposit</td>\n",
       "      <td>Furnished</td>\n",
       "      <td>1</td>\n",
       "      <td>0</td>\n",
       "      <td>1</td>\n",
       "    </tr>\n",
       "    <tr>\n",
       "      <th>4</th>\n",
       "      <td>2 BHK Apartment</td>\n",
       "      <td>810 sq ft</td>\n",
       "      <td>Sector 13 Rohini</td>\n",
       "      <td>28.723539</td>\n",
       "      <td>77.131424</td>\n",
       "      <td>20000</td>\n",
       "      <td>2.0</td>\n",
       "      <td>2.0</td>\n",
       "      <td>Missing</td>\n",
       "      <td>Posted a year ago</td>\n",
       "      <td>No Deposit</td>\n",
       "      <td>Unfurnished</td>\n",
       "      <td>1</td>\n",
       "      <td>0</td>\n",
       "      <td>1</td>\n",
       "    </tr>\n",
       "  </tbody>\n",
       "</table>\n",
       "</div>"
      ],
      "text/plain": [
       "                 house_type   house_size           location   latitude  \\\n",
       "0    1 RK Studio Apartment     400 sq ft            Kalkaji  28.545561   \n",
       "1    1 RK Studio Apartment     400 sq ft  Mansarover Garden  28.643259   \n",
       "2  2 BHK Independent Floor     500 sq ft        Uttam Nagar  28.618677   \n",
       "3  3 BHK Independent House   1,020 sq ft         Model Town  28.712898   \n",
       "4          2 BHK Apartment     810 sq ft   Sector 13 Rohini  28.723539   \n",
       "\n",
       "   longitude  price  numBathrooms  numBalconies isNegotiable  \\\n",
       "0  77.254349  22000           1.0           2.0      Missing   \n",
       "1  77.132828  20000           1.0           2.0      Missing   \n",
       "2  77.053352   8500           1.0           2.0      Missing   \n",
       "3  77.180000  48000           3.0           2.0      Missing   \n",
       "4  77.131424  20000           2.0           2.0      Missing   \n",
       "\n",
       "     verificationDate SecurityDeposit          Status  isNegotiable_nan  \\\n",
       "0    Posted a day ago      No Deposit       Furnished                 1   \n",
       "1   Posted 9 days ago      No Deposit       Furnished                 1   \n",
       "2  Posted 12 days ago      No Deposit  Semi-Furnished                 1   \n",
       "3   Posted a year ago      No Deposit       Furnished                 1   \n",
       "4   Posted a year ago      No Deposit     Unfurnished                 1   \n",
       "\n",
       "   numBathrooms_nan  numBalconies_nan  \n",
       "0                 0                 1  \n",
       "1                 0                 1  \n",
       "2                 0                 1  \n",
       "3                 0                 1  \n",
       "4                 0                 1  "
      ]
     },
     "execution_count": 139,
     "metadata": {},
     "output_type": "execute_result"
    }
   ],
   "source": [
    "## Handling missing values for numerical features\n",
    "\n",
    "num_nan=[feature for feature in df2.columns if df2[feature].isnull().sum()>1 and df[feature].dtypes!='O']\n",
    "\n",
    "for feature in num_nan:\n",
    "    df2[feature+'_'+'nan']=np.where(df2[feature].isnull(),1,0)\n",
    "    df2[feature].fillna(df2[feature].median(),inplace = True)\n",
    "\n",
    "df2.head()"
   ]
  },
  {
   "cell_type": "code",
   "execution_count": 140,
   "id": "8fb78d29",
   "metadata": {
    "colab": {
     "base_uri": "https://localhost:8080/",
     "height": 554
    },
    "executionInfo": {
     "elapsed": 20,
     "status": "ok",
     "timestamp": 1732010716746,
     "user": {
      "displayName": "Mayur Valvi",
      "userId": "08772129272918674075"
     },
     "user_tz": -330
    },
    "id": "8fb78d29",
    "outputId": "3c6a5323-f5c1-4c55-8111-e8f603a27146",
    "papermill": {
     "duration": 0.043489,
     "end_time": "2024-08-14T13:49:35.287693",
     "exception": false,
     "start_time": "2024-08-14T13:49:35.244204",
     "status": "completed"
    },
    "tags": []
   },
   "outputs": [
    {
     "data": {
      "text/plain": [
       "house_type          0\n",
       "house_size          0\n",
       "location            0\n",
       "latitude            0\n",
       "longitude           0\n",
       "price               0\n",
       "numBathrooms        0\n",
       "numBalconies        0\n",
       "isNegotiable        0\n",
       "verificationDate    0\n",
       "SecurityDeposit     0\n",
       "Status              0\n",
       "isNegotiable_nan    0\n",
       "numBathrooms_nan    0\n",
       "numBalconies_nan    0\n",
       "dtype: int64"
      ]
     },
     "execution_count": 140,
     "metadata": {},
     "output_type": "execute_result"
    }
   ],
   "source": [
    "df2.isnull().sum()"
   ]
  },
  {
   "cell_type": "code",
   "execution_count": 141,
   "id": "b6a88e13",
   "metadata": {
    "colab": {
     "base_uri": "https://localhost:8080/",
     "height": 347
    },
    "executionInfo": {
     "elapsed": 1492,
     "status": "ok",
     "timestamp": 1732010718219,
     "user": {
      "displayName": "Mayur Valvi",
      "userId": "08772129272918674075"
     },
     "user_tz": -330
    },
    "id": "b6a88e13",
    "outputId": "c5258e68-8371-4a8d-82ce-535ee300fcca",
    "papermill": {
     "duration": 0.05874,
     "end_time": "2024-08-14T13:49:35.371306",
     "exception": false,
     "start_time": "2024-08-14T13:49:35.312566",
     "status": "completed"
    },
    "tags": []
   },
   "outputs": [
    {
     "data": {
      "text/html": [
       "<div>\n",
       "<style scoped>\n",
       "    .dataframe tbody tr th:only-of-type {\n",
       "        vertical-align: middle;\n",
       "    }\n",
       "\n",
       "    .dataframe tbody tr th {\n",
       "        vertical-align: top;\n",
       "    }\n",
       "\n",
       "    .dataframe thead th {\n",
       "        text-align: right;\n",
       "    }\n",
       "</style>\n",
       "<table border=\"1\" class=\"dataframe\">\n",
       "  <thead>\n",
       "    <tr style=\"text-align: right;\">\n",
       "      <th></th>\n",
       "      <th>house_type</th>\n",
       "      <th>house_size</th>\n",
       "      <th>location</th>\n",
       "      <th>latitude</th>\n",
       "      <th>longitude</th>\n",
       "      <th>price</th>\n",
       "      <th>numBathrooms</th>\n",
       "      <th>numBalconies</th>\n",
       "      <th>isNegotiable</th>\n",
       "      <th>verificationDate</th>\n",
       "      <th>SecurityDeposit</th>\n",
       "      <th>Status</th>\n",
       "      <th>isNegotiable_nan</th>\n",
       "      <th>numBathrooms_nan</th>\n",
       "      <th>numBalconies_nan</th>\n",
       "      <th>bhk</th>\n",
       "    </tr>\n",
       "  </thead>\n",
       "  <tbody>\n",
       "    <tr>\n",
       "      <th>0</th>\n",
       "      <td>1 RK Studio Apartment</td>\n",
       "      <td>400 sq ft</td>\n",
       "      <td>Kalkaji</td>\n",
       "      <td>28.545561</td>\n",
       "      <td>77.254349</td>\n",
       "      <td>22000</td>\n",
       "      <td>1.0</td>\n",
       "      <td>2.0</td>\n",
       "      <td>Missing</td>\n",
       "      <td>Posted a day ago</td>\n",
       "      <td>No Deposit</td>\n",
       "      <td>Furnished</td>\n",
       "      <td>1</td>\n",
       "      <td>0</td>\n",
       "      <td>1</td>\n",
       "      <td>1</td>\n",
       "    </tr>\n",
       "    <tr>\n",
       "      <th>1</th>\n",
       "      <td>1 RK Studio Apartment</td>\n",
       "      <td>400 sq ft</td>\n",
       "      <td>Mansarover Garden</td>\n",
       "      <td>28.643259</td>\n",
       "      <td>77.132828</td>\n",
       "      <td>20000</td>\n",
       "      <td>1.0</td>\n",
       "      <td>2.0</td>\n",
       "      <td>Missing</td>\n",
       "      <td>Posted 9 days ago</td>\n",
       "      <td>No Deposit</td>\n",
       "      <td>Furnished</td>\n",
       "      <td>1</td>\n",
       "      <td>0</td>\n",
       "      <td>1</td>\n",
       "      <td>1</td>\n",
       "    </tr>\n",
       "    <tr>\n",
       "      <th>2</th>\n",
       "      <td>2 BHK Independent Floor</td>\n",
       "      <td>500 sq ft</td>\n",
       "      <td>Uttam Nagar</td>\n",
       "      <td>28.618677</td>\n",
       "      <td>77.053352</td>\n",
       "      <td>8500</td>\n",
       "      <td>1.0</td>\n",
       "      <td>2.0</td>\n",
       "      <td>Missing</td>\n",
       "      <td>Posted 12 days ago</td>\n",
       "      <td>No Deposit</td>\n",
       "      <td>Semi-Furnished</td>\n",
       "      <td>1</td>\n",
       "      <td>0</td>\n",
       "      <td>1</td>\n",
       "      <td>2</td>\n",
       "    </tr>\n",
       "    <tr>\n",
       "      <th>3</th>\n",
       "      <td>3 BHK Independent House</td>\n",
       "      <td>1,020 sq ft</td>\n",
       "      <td>Model Town</td>\n",
       "      <td>28.712898</td>\n",
       "      <td>77.180000</td>\n",
       "      <td>48000</td>\n",
       "      <td>3.0</td>\n",
       "      <td>2.0</td>\n",
       "      <td>Missing</td>\n",
       "      <td>Posted a year ago</td>\n",
       "      <td>No Deposit</td>\n",
       "      <td>Furnished</td>\n",
       "      <td>1</td>\n",
       "      <td>0</td>\n",
       "      <td>1</td>\n",
       "      <td>3</td>\n",
       "    </tr>\n",
       "    <tr>\n",
       "      <th>4</th>\n",
       "      <td>2 BHK Apartment</td>\n",
       "      <td>810 sq ft</td>\n",
       "      <td>Sector 13 Rohini</td>\n",
       "      <td>28.723539</td>\n",
       "      <td>77.131424</td>\n",
       "      <td>20000</td>\n",
       "      <td>2.0</td>\n",
       "      <td>2.0</td>\n",
       "      <td>Missing</td>\n",
       "      <td>Posted a year ago</td>\n",
       "      <td>No Deposit</td>\n",
       "      <td>Unfurnished</td>\n",
       "      <td>1</td>\n",
       "      <td>0</td>\n",
       "      <td>1</td>\n",
       "      <td>2</td>\n",
       "    </tr>\n",
       "  </tbody>\n",
       "</table>\n",
       "</div>"
      ],
      "text/plain": [
       "                 house_type   house_size           location   latitude  \\\n",
       "0    1 RK Studio Apartment     400 sq ft            Kalkaji  28.545561   \n",
       "1    1 RK Studio Apartment     400 sq ft  Mansarover Garden  28.643259   \n",
       "2  2 BHK Independent Floor     500 sq ft        Uttam Nagar  28.618677   \n",
       "3  3 BHK Independent House   1,020 sq ft         Model Town  28.712898   \n",
       "4          2 BHK Apartment     810 sq ft   Sector 13 Rohini  28.723539   \n",
       "\n",
       "   longitude  price  numBathrooms  numBalconies isNegotiable  \\\n",
       "0  77.254349  22000           1.0           2.0      Missing   \n",
       "1  77.132828  20000           1.0           2.0      Missing   \n",
       "2  77.053352   8500           1.0           2.0      Missing   \n",
       "3  77.180000  48000           3.0           2.0      Missing   \n",
       "4  77.131424  20000           2.0           2.0      Missing   \n",
       "\n",
       "     verificationDate SecurityDeposit          Status  isNegotiable_nan  \\\n",
       "0    Posted a day ago      No Deposit       Furnished                 1   \n",
       "1   Posted 9 days ago      No Deposit       Furnished                 1   \n",
       "2  Posted 12 days ago      No Deposit  Semi-Furnished                 1   \n",
       "3   Posted a year ago      No Deposit       Furnished                 1   \n",
       "4   Posted a year ago      No Deposit     Unfurnished                 1   \n",
       "\n",
       "   numBathrooms_nan  numBalconies_nan  bhk  \n",
       "0                 0                 1    1  \n",
       "1                 0                 1    1  \n",
       "2                 0                 1    2  \n",
       "3                 0                 1    3  \n",
       "4                 0                 1    2  "
      ]
     },
     "execution_count": 141,
     "metadata": {},
     "output_type": "execute_result"
    }
   ],
   "source": [
    "df2['bhk'] = df2['house_type'].apply(lambda x: int(x.split()[0]))\n",
    "\n",
    "df2.head()\n"
   ]
  },
  {
   "cell_type": "code",
   "execution_count": 142,
   "id": "729dcfb8",
   "metadata": {
    "colab": {
     "base_uri": "https://localhost:8080/",
     "height": 295
    },
    "executionInfo": {
     "elapsed": 22,
     "status": "ok",
     "timestamp": 1732010718219,
     "user": {
      "displayName": "Mayur Valvi",
      "userId": "08772129272918674075"
     },
     "user_tz": -330
    },
    "id": "729dcfb8",
    "outputId": "a3ea91c0-5f50-49bf-d3af-0aacecb83997",
    "papermill": {
     "duration": 0.055459,
     "end_time": "2024-08-14T13:49:35.452310",
     "exception": false,
     "start_time": "2024-08-14T13:49:35.396851",
     "status": "completed"
    },
    "tags": []
   },
   "outputs": [
    {
     "data": {
      "text/html": [
       "<div>\n",
       "<style scoped>\n",
       "    .dataframe tbody tr th:only-of-type {\n",
       "        vertical-align: middle;\n",
       "    }\n",
       "\n",
       "    .dataframe tbody tr th {\n",
       "        vertical-align: top;\n",
       "    }\n",
       "\n",
       "    .dataframe thead th {\n",
       "        text-align: right;\n",
       "    }\n",
       "</style>\n",
       "<table border=\"1\" class=\"dataframe\">\n",
       "  <thead>\n",
       "    <tr style=\"text-align: right;\">\n",
       "      <th></th>\n",
       "      <th>house_type</th>\n",
       "      <th>house_size</th>\n",
       "      <th>location</th>\n",
       "      <th>latitude</th>\n",
       "      <th>longitude</th>\n",
       "      <th>price</th>\n",
       "      <th>numBathrooms</th>\n",
       "      <th>numBalconies</th>\n",
       "      <th>isNegotiable</th>\n",
       "      <th>verificationDate</th>\n",
       "      <th>SecurityDeposit</th>\n",
       "      <th>Status</th>\n",
       "      <th>isNegotiable_nan</th>\n",
       "      <th>numBathrooms_nan</th>\n",
       "      <th>numBalconies_nan</th>\n",
       "      <th>bhk</th>\n",
       "    </tr>\n",
       "  </thead>\n",
       "  <tbody>\n",
       "    <tr>\n",
       "      <th>0</th>\n",
       "      <td>Apartment</td>\n",
       "      <td>400 sq ft</td>\n",
       "      <td>Kalkaji</td>\n",
       "      <td>28.545561</td>\n",
       "      <td>77.254349</td>\n",
       "      <td>22000</td>\n",
       "      <td>1.0</td>\n",
       "      <td>2.0</td>\n",
       "      <td>Missing</td>\n",
       "      <td>Posted a day ago</td>\n",
       "      <td>No Deposit</td>\n",
       "      <td>Furnished</td>\n",
       "      <td>1</td>\n",
       "      <td>0</td>\n",
       "      <td>1</td>\n",
       "      <td>1</td>\n",
       "    </tr>\n",
       "    <tr>\n",
       "      <th>1</th>\n",
       "      <td>Apartment</td>\n",
       "      <td>400 sq ft</td>\n",
       "      <td>Mansarover Garden</td>\n",
       "      <td>28.643259</td>\n",
       "      <td>77.132828</td>\n",
       "      <td>20000</td>\n",
       "      <td>1.0</td>\n",
       "      <td>2.0</td>\n",
       "      <td>Missing</td>\n",
       "      <td>Posted 9 days ago</td>\n",
       "      <td>No Deposit</td>\n",
       "      <td>Furnished</td>\n",
       "      <td>1</td>\n",
       "      <td>0</td>\n",
       "      <td>1</td>\n",
       "      <td>1</td>\n",
       "    </tr>\n",
       "    <tr>\n",
       "      <th>2</th>\n",
       "      <td>Floor</td>\n",
       "      <td>500 sq ft</td>\n",
       "      <td>Uttam Nagar</td>\n",
       "      <td>28.618677</td>\n",
       "      <td>77.053352</td>\n",
       "      <td>8500</td>\n",
       "      <td>1.0</td>\n",
       "      <td>2.0</td>\n",
       "      <td>Missing</td>\n",
       "      <td>Posted 12 days ago</td>\n",
       "      <td>No Deposit</td>\n",
       "      <td>Semi-Furnished</td>\n",
       "      <td>1</td>\n",
       "      <td>0</td>\n",
       "      <td>1</td>\n",
       "      <td>2</td>\n",
       "    </tr>\n",
       "    <tr>\n",
       "      <th>3</th>\n",
       "      <td>House</td>\n",
       "      <td>1,020 sq ft</td>\n",
       "      <td>Model Town</td>\n",
       "      <td>28.712898</td>\n",
       "      <td>77.180000</td>\n",
       "      <td>48000</td>\n",
       "      <td>3.0</td>\n",
       "      <td>2.0</td>\n",
       "      <td>Missing</td>\n",
       "      <td>Posted a year ago</td>\n",
       "      <td>No Deposit</td>\n",
       "      <td>Furnished</td>\n",
       "      <td>1</td>\n",
       "      <td>0</td>\n",
       "      <td>1</td>\n",
       "      <td>3</td>\n",
       "    </tr>\n",
       "    <tr>\n",
       "      <th>4</th>\n",
       "      <td>Apartment</td>\n",
       "      <td>810 sq ft</td>\n",
       "      <td>Sector 13 Rohini</td>\n",
       "      <td>28.723539</td>\n",
       "      <td>77.131424</td>\n",
       "      <td>20000</td>\n",
       "      <td>2.0</td>\n",
       "      <td>2.0</td>\n",
       "      <td>Missing</td>\n",
       "      <td>Posted a year ago</td>\n",
       "      <td>No Deposit</td>\n",
       "      <td>Unfurnished</td>\n",
       "      <td>1</td>\n",
       "      <td>0</td>\n",
       "      <td>1</td>\n",
       "      <td>2</td>\n",
       "    </tr>\n",
       "  </tbody>\n",
       "</table>\n",
       "</div>"
      ],
      "text/plain": [
       "  house_type   house_size           location   latitude  longitude  price  \\\n",
       "0  Apartment    400 sq ft            Kalkaji  28.545561  77.254349  22000   \n",
       "1  Apartment    400 sq ft  Mansarover Garden  28.643259  77.132828  20000   \n",
       "2      Floor    500 sq ft        Uttam Nagar  28.618677  77.053352   8500   \n",
       "3      House  1,020 sq ft         Model Town  28.712898  77.180000  48000   \n",
       "4  Apartment    810 sq ft   Sector 13 Rohini  28.723539  77.131424  20000   \n",
       "\n",
       "   numBathrooms  numBalconies isNegotiable    verificationDate  \\\n",
       "0           1.0           2.0      Missing    Posted a day ago   \n",
       "1           1.0           2.0      Missing   Posted 9 days ago   \n",
       "2           1.0           2.0      Missing  Posted 12 days ago   \n",
       "3           3.0           2.0      Missing   Posted a year ago   \n",
       "4           2.0           2.0      Missing   Posted a year ago   \n",
       "\n",
       "  SecurityDeposit          Status  isNegotiable_nan  numBathrooms_nan  \\\n",
       "0      No Deposit       Furnished                 1                 0   \n",
       "1      No Deposit       Furnished                 1                 0   \n",
       "2      No Deposit  Semi-Furnished                 1                 0   \n",
       "3      No Deposit       Furnished                 1                 0   \n",
       "4      No Deposit     Unfurnished                 1                 0   \n",
       "\n",
       "   numBalconies_nan  bhk  \n",
       "0                 1    1  \n",
       "1                 1    1  \n",
       "2                 1    2  \n",
       "3                 1    3  \n",
       "4                 1    2  "
      ]
     },
     "execution_count": 142,
     "metadata": {},
     "output_type": "execute_result"
    }
   ],
   "source": [
    "df2['house_type'] = df2['house_type'].apply(lambda x: x.split()[-1])\n",
    "df2.head()"
   ]
  },
  {
   "cell_type": "code",
   "execution_count": 143,
   "id": "85fc5734",
   "metadata": {
    "colab": {
     "base_uri": "https://localhost:8080/",
     "height": 295
    },
    "executionInfo": {
     "elapsed": 22,
     "status": "ok",
     "timestamp": 1732010718219,
     "user": {
      "displayName": "Mayur Valvi",
      "userId": "08772129272918674075"
     },
     "user_tz": -330
    },
    "id": "85fc5734",
    "outputId": "30844238-25ee-423f-ee12-af8a55470d60",
    "papermill": {
     "duration": 0.061972,
     "end_time": "2024-08-14T13:49:35.539628",
     "exception": false,
     "start_time": "2024-08-14T13:49:35.477656",
     "status": "completed"
    },
    "tags": []
   },
   "outputs": [
    {
     "data": {
      "text/html": [
       "<div>\n",
       "<style scoped>\n",
       "    .dataframe tbody tr th:only-of-type {\n",
       "        vertical-align: middle;\n",
       "    }\n",
       "\n",
       "    .dataframe tbody tr th {\n",
       "        vertical-align: top;\n",
       "    }\n",
       "\n",
       "    .dataframe thead th {\n",
       "        text-align: right;\n",
       "    }\n",
       "</style>\n",
       "<table border=\"1\" class=\"dataframe\">\n",
       "  <thead>\n",
       "    <tr style=\"text-align: right;\">\n",
       "      <th></th>\n",
       "      <th>house_type</th>\n",
       "      <th>house_size</th>\n",
       "      <th>location</th>\n",
       "      <th>latitude</th>\n",
       "      <th>longitude</th>\n",
       "      <th>price</th>\n",
       "      <th>numBathrooms</th>\n",
       "      <th>numBalconies</th>\n",
       "      <th>isNegotiable</th>\n",
       "      <th>verificationDate</th>\n",
       "      <th>SecurityDeposit</th>\n",
       "      <th>Status</th>\n",
       "      <th>isNegotiable_nan</th>\n",
       "      <th>numBathrooms_nan</th>\n",
       "      <th>numBalconies_nan</th>\n",
       "      <th>bhk</th>\n",
       "      <th>house_size_sqft</th>\n",
       "    </tr>\n",
       "  </thead>\n",
       "  <tbody>\n",
       "    <tr>\n",
       "      <th>0</th>\n",
       "      <td>Apartment</td>\n",
       "      <td>400 sq ft</td>\n",
       "      <td>Kalkaji</td>\n",
       "      <td>28.545561</td>\n",
       "      <td>77.254349</td>\n",
       "      <td>22000</td>\n",
       "      <td>1.0</td>\n",
       "      <td>2.0</td>\n",
       "      <td>Missing</td>\n",
       "      <td>Posted a day ago</td>\n",
       "      <td>No Deposit</td>\n",
       "      <td>Furnished</td>\n",
       "      <td>1</td>\n",
       "      <td>0</td>\n",
       "      <td>1</td>\n",
       "      <td>1</td>\n",
       "      <td>400</td>\n",
       "    </tr>\n",
       "    <tr>\n",
       "      <th>1</th>\n",
       "      <td>Apartment</td>\n",
       "      <td>400 sq ft</td>\n",
       "      <td>Mansarover Garden</td>\n",
       "      <td>28.643259</td>\n",
       "      <td>77.132828</td>\n",
       "      <td>20000</td>\n",
       "      <td>1.0</td>\n",
       "      <td>2.0</td>\n",
       "      <td>Missing</td>\n",
       "      <td>Posted 9 days ago</td>\n",
       "      <td>No Deposit</td>\n",
       "      <td>Furnished</td>\n",
       "      <td>1</td>\n",
       "      <td>0</td>\n",
       "      <td>1</td>\n",
       "      <td>1</td>\n",
       "      <td>400</td>\n",
       "    </tr>\n",
       "    <tr>\n",
       "      <th>2</th>\n",
       "      <td>Floor</td>\n",
       "      <td>500 sq ft</td>\n",
       "      <td>Uttam Nagar</td>\n",
       "      <td>28.618677</td>\n",
       "      <td>77.053352</td>\n",
       "      <td>8500</td>\n",
       "      <td>1.0</td>\n",
       "      <td>2.0</td>\n",
       "      <td>Missing</td>\n",
       "      <td>Posted 12 days ago</td>\n",
       "      <td>No Deposit</td>\n",
       "      <td>Semi-Furnished</td>\n",
       "      <td>1</td>\n",
       "      <td>0</td>\n",
       "      <td>1</td>\n",
       "      <td>2</td>\n",
       "      <td>500</td>\n",
       "    </tr>\n",
       "    <tr>\n",
       "      <th>3</th>\n",
       "      <td>House</td>\n",
       "      <td>1,020 sq ft</td>\n",
       "      <td>Model Town</td>\n",
       "      <td>28.712898</td>\n",
       "      <td>77.180000</td>\n",
       "      <td>48000</td>\n",
       "      <td>3.0</td>\n",
       "      <td>2.0</td>\n",
       "      <td>Missing</td>\n",
       "      <td>Posted a year ago</td>\n",
       "      <td>No Deposit</td>\n",
       "      <td>Furnished</td>\n",
       "      <td>1</td>\n",
       "      <td>0</td>\n",
       "      <td>1</td>\n",
       "      <td>3</td>\n",
       "      <td>1020</td>\n",
       "    </tr>\n",
       "    <tr>\n",
       "      <th>4</th>\n",
       "      <td>Apartment</td>\n",
       "      <td>810 sq ft</td>\n",
       "      <td>Sector 13 Rohini</td>\n",
       "      <td>28.723539</td>\n",
       "      <td>77.131424</td>\n",
       "      <td>20000</td>\n",
       "      <td>2.0</td>\n",
       "      <td>2.0</td>\n",
       "      <td>Missing</td>\n",
       "      <td>Posted a year ago</td>\n",
       "      <td>No Deposit</td>\n",
       "      <td>Unfurnished</td>\n",
       "      <td>1</td>\n",
       "      <td>0</td>\n",
       "      <td>1</td>\n",
       "      <td>2</td>\n",
       "      <td>810</td>\n",
       "    </tr>\n",
       "  </tbody>\n",
       "</table>\n",
       "</div>"
      ],
      "text/plain": [
       "  house_type   house_size           location   latitude  longitude  price  \\\n",
       "0  Apartment    400 sq ft            Kalkaji  28.545561  77.254349  22000   \n",
       "1  Apartment    400 sq ft  Mansarover Garden  28.643259  77.132828  20000   \n",
       "2      Floor    500 sq ft        Uttam Nagar  28.618677  77.053352   8500   \n",
       "3      House  1,020 sq ft         Model Town  28.712898  77.180000  48000   \n",
       "4  Apartment    810 sq ft   Sector 13 Rohini  28.723539  77.131424  20000   \n",
       "\n",
       "   numBathrooms  numBalconies isNegotiable    verificationDate  \\\n",
       "0           1.0           2.0      Missing    Posted a day ago   \n",
       "1           1.0           2.0      Missing   Posted 9 days ago   \n",
       "2           1.0           2.0      Missing  Posted 12 days ago   \n",
       "3           3.0           2.0      Missing   Posted a year ago   \n",
       "4           2.0           2.0      Missing   Posted a year ago   \n",
       "\n",
       "  SecurityDeposit          Status  isNegotiable_nan  numBathrooms_nan  \\\n",
       "0      No Deposit       Furnished                 1                 0   \n",
       "1      No Deposit       Furnished                 1                 0   \n",
       "2      No Deposit  Semi-Furnished                 1                 0   \n",
       "3      No Deposit       Furnished                 1                 0   \n",
       "4      No Deposit     Unfurnished                 1                 0   \n",
       "\n",
       "   numBalconies_nan  bhk  house_size_sqft  \n",
       "0                 1    1              400  \n",
       "1                 1    1              400  \n",
       "2                 1    2              500  \n",
       "3                 1    3             1020  \n",
       "4                 1    2              810  "
      ]
     },
     "execution_count": 143,
     "metadata": {},
     "output_type": "execute_result"
    }
   ],
   "source": [
    "df2['house_size_sqft'] = df2['house_size'].apply(lambda x: int(x.replace(',','').split()[0]))\n",
    "\n",
    "df2.head()"
   ]
  },
  {
   "cell_type": "code",
   "execution_count": 144,
   "id": "3ca0b2d0",
   "metadata": {
    "executionInfo": {
     "elapsed": 21,
     "status": "ok",
     "timestamp": 1732010718219,
     "user": {
      "displayName": "Mayur Valvi",
      "userId": "08772129272918674075"
     },
     "user_tz": -330
    },
    "id": "3ca0b2d0",
    "papermill": {
     "duration": 0.037688,
     "end_time": "2024-08-14T13:49:35.604658",
     "exception": false,
     "start_time": "2024-08-14T13:49:35.566970",
     "status": "completed"
    },
    "tags": []
   },
   "outputs": [],
   "source": [
    "df2.drop('house_size',axis=1,inplace=True)"
   ]
  },
  {
   "cell_type": "code",
   "execution_count": 145,
   "id": "8b1acc15",
   "metadata": {
    "colab": {
     "base_uri": "https://localhost:8080/",
     "height": 295
    },
    "executionInfo": {
     "elapsed": 22,
     "status": "ok",
     "timestamp": 1732010718220,
     "user": {
      "displayName": "Mayur Valvi",
      "userId": "08772129272918674075"
     },
     "user_tz": -330
    },
    "id": "8b1acc15",
    "outputId": "dba81524-4826-42f3-e235-6f3477ddfa1d",
    "papermill": {
     "duration": 0.052691,
     "end_time": "2024-08-14T13:49:35.683732",
     "exception": false,
     "start_time": "2024-08-14T13:49:35.631041",
     "status": "completed"
    },
    "tags": []
   },
   "outputs": [
    {
     "data": {
      "text/html": [
       "<div>\n",
       "<style scoped>\n",
       "    .dataframe tbody tr th:only-of-type {\n",
       "        vertical-align: middle;\n",
       "    }\n",
       "\n",
       "    .dataframe tbody tr th {\n",
       "        vertical-align: top;\n",
       "    }\n",
       "\n",
       "    .dataframe thead th {\n",
       "        text-align: right;\n",
       "    }\n",
       "</style>\n",
       "<table border=\"1\" class=\"dataframe\">\n",
       "  <thead>\n",
       "    <tr style=\"text-align: right;\">\n",
       "      <th></th>\n",
       "      <th>house_type</th>\n",
       "      <th>location</th>\n",
       "      <th>latitude</th>\n",
       "      <th>longitude</th>\n",
       "      <th>price</th>\n",
       "      <th>numBathrooms</th>\n",
       "      <th>numBalconies</th>\n",
       "      <th>isNegotiable</th>\n",
       "      <th>verificationDate</th>\n",
       "      <th>SecurityDeposit</th>\n",
       "      <th>Status</th>\n",
       "      <th>isNegotiable_nan</th>\n",
       "      <th>numBathrooms_nan</th>\n",
       "      <th>numBalconies_nan</th>\n",
       "      <th>bhk</th>\n",
       "      <th>house_size_sqft</th>\n",
       "    </tr>\n",
       "  </thead>\n",
       "  <tbody>\n",
       "    <tr>\n",
       "      <th>0</th>\n",
       "      <td>Apartment</td>\n",
       "      <td>Kalkaji</td>\n",
       "      <td>28.545561</td>\n",
       "      <td>77.254349</td>\n",
       "      <td>22000</td>\n",
       "      <td>1.0</td>\n",
       "      <td>2.0</td>\n",
       "      <td>Missing</td>\n",
       "      <td>Posted a day ago</td>\n",
       "      <td>No Deposit</td>\n",
       "      <td>Furnished</td>\n",
       "      <td>1</td>\n",
       "      <td>0</td>\n",
       "      <td>1</td>\n",
       "      <td>1</td>\n",
       "      <td>400</td>\n",
       "    </tr>\n",
       "    <tr>\n",
       "      <th>1</th>\n",
       "      <td>Apartment</td>\n",
       "      <td>Mansarover Garden</td>\n",
       "      <td>28.643259</td>\n",
       "      <td>77.132828</td>\n",
       "      <td>20000</td>\n",
       "      <td>1.0</td>\n",
       "      <td>2.0</td>\n",
       "      <td>Missing</td>\n",
       "      <td>Posted 9 days ago</td>\n",
       "      <td>No Deposit</td>\n",
       "      <td>Furnished</td>\n",
       "      <td>1</td>\n",
       "      <td>0</td>\n",
       "      <td>1</td>\n",
       "      <td>1</td>\n",
       "      <td>400</td>\n",
       "    </tr>\n",
       "    <tr>\n",
       "      <th>2</th>\n",
       "      <td>Floor</td>\n",
       "      <td>Uttam Nagar</td>\n",
       "      <td>28.618677</td>\n",
       "      <td>77.053352</td>\n",
       "      <td>8500</td>\n",
       "      <td>1.0</td>\n",
       "      <td>2.0</td>\n",
       "      <td>Missing</td>\n",
       "      <td>Posted 12 days ago</td>\n",
       "      <td>No Deposit</td>\n",
       "      <td>Semi-Furnished</td>\n",
       "      <td>1</td>\n",
       "      <td>0</td>\n",
       "      <td>1</td>\n",
       "      <td>2</td>\n",
       "      <td>500</td>\n",
       "    </tr>\n",
       "    <tr>\n",
       "      <th>3</th>\n",
       "      <td>House</td>\n",
       "      <td>Model Town</td>\n",
       "      <td>28.712898</td>\n",
       "      <td>77.180000</td>\n",
       "      <td>48000</td>\n",
       "      <td>3.0</td>\n",
       "      <td>2.0</td>\n",
       "      <td>Missing</td>\n",
       "      <td>Posted a year ago</td>\n",
       "      <td>No Deposit</td>\n",
       "      <td>Furnished</td>\n",
       "      <td>1</td>\n",
       "      <td>0</td>\n",
       "      <td>1</td>\n",
       "      <td>3</td>\n",
       "      <td>1020</td>\n",
       "    </tr>\n",
       "    <tr>\n",
       "      <th>4</th>\n",
       "      <td>Apartment</td>\n",
       "      <td>Sector 13 Rohini</td>\n",
       "      <td>28.723539</td>\n",
       "      <td>77.131424</td>\n",
       "      <td>20000</td>\n",
       "      <td>2.0</td>\n",
       "      <td>2.0</td>\n",
       "      <td>Missing</td>\n",
       "      <td>Posted a year ago</td>\n",
       "      <td>No Deposit</td>\n",
       "      <td>Unfurnished</td>\n",
       "      <td>1</td>\n",
       "      <td>0</td>\n",
       "      <td>1</td>\n",
       "      <td>2</td>\n",
       "      <td>810</td>\n",
       "    </tr>\n",
       "  </tbody>\n",
       "</table>\n",
       "</div>"
      ],
      "text/plain": [
       "  house_type           location   latitude  longitude  price  numBathrooms  \\\n",
       "0  Apartment            Kalkaji  28.545561  77.254349  22000           1.0   \n",
       "1  Apartment  Mansarover Garden  28.643259  77.132828  20000           1.0   \n",
       "2      Floor        Uttam Nagar  28.618677  77.053352   8500           1.0   \n",
       "3      House         Model Town  28.712898  77.180000  48000           3.0   \n",
       "4  Apartment   Sector 13 Rohini  28.723539  77.131424  20000           2.0   \n",
       "\n",
       "   numBalconies isNegotiable    verificationDate SecurityDeposit  \\\n",
       "0           2.0      Missing    Posted a day ago      No Deposit   \n",
       "1           2.0      Missing   Posted 9 days ago      No Deposit   \n",
       "2           2.0      Missing  Posted 12 days ago      No Deposit   \n",
       "3           2.0      Missing   Posted a year ago      No Deposit   \n",
       "4           2.0      Missing   Posted a year ago      No Deposit   \n",
       "\n",
       "           Status  isNegotiable_nan  numBathrooms_nan  numBalconies_nan  bhk  \\\n",
       "0       Furnished                 1                 0                 1    1   \n",
       "1       Furnished                 1                 0                 1    1   \n",
       "2  Semi-Furnished                 1                 0                 1    2   \n",
       "3       Furnished                 1                 0                 1    3   \n",
       "4     Unfurnished                 1                 0                 1    2   \n",
       "\n",
       "   house_size_sqft  \n",
       "0              400  \n",
       "1              400  \n",
       "2              500  \n",
       "3             1020  \n",
       "4              810  "
      ]
     },
     "execution_count": 145,
     "metadata": {},
     "output_type": "execute_result"
    }
   ],
   "source": [
    "df2.head()"
   ]
  },
  {
   "cell_type": "code",
   "execution_count": 146,
   "id": "004183b5",
   "metadata": {
    "colab": {
     "base_uri": "https://localhost:8080/",
     "height": 226
    },
    "executionInfo": {
     "elapsed": 21,
     "status": "ok",
     "timestamp": 1732010718220,
     "user": {
      "displayName": "Mayur Valvi",
      "userId": "08772129272918674075"
     },
     "user_tz": -330
    },
    "id": "004183b5",
    "outputId": "0c7a5b22-99bf-47cc-dae3-85e5abde00aa",
    "papermill": {
     "duration": 0.072954,
     "end_time": "2024-08-14T13:49:35.783650",
     "exception": false,
     "start_time": "2024-08-14T13:49:35.710696",
     "status": "completed"
    },
    "tags": []
   },
   "outputs": [
    {
     "data": {
      "text/html": [
       "<div>\n",
       "<style scoped>\n",
       "    .dataframe tbody tr th:only-of-type {\n",
       "        vertical-align: middle;\n",
       "    }\n",
       "\n",
       "    .dataframe tbody tr th {\n",
       "        vertical-align: top;\n",
       "    }\n",
       "\n",
       "    .dataframe thead th {\n",
       "        text-align: right;\n",
       "    }\n",
       "</style>\n",
       "<table border=\"1\" class=\"dataframe\">\n",
       "  <thead>\n",
       "    <tr style=\"text-align: right;\">\n",
       "      <th></th>\n",
       "      <th>house_type</th>\n",
       "      <th>location</th>\n",
       "      <th>latitude</th>\n",
       "      <th>longitude</th>\n",
       "      <th>price</th>\n",
       "      <th>numBathrooms</th>\n",
       "      <th>numBalconies</th>\n",
       "      <th>isNegotiable</th>\n",
       "      <th>verificationDate</th>\n",
       "      <th>SecurityDeposit</th>\n",
       "      <th>Status</th>\n",
       "      <th>isNegotiable_nan</th>\n",
       "      <th>numBathrooms_nan</th>\n",
       "      <th>numBalconies_nan</th>\n",
       "      <th>bhk</th>\n",
       "      <th>house_size_sqft</th>\n",
       "    </tr>\n",
       "  </thead>\n",
       "  <tbody>\n",
       "    <tr>\n",
       "      <th>0</th>\n",
       "      <td>0</td>\n",
       "      <td>201</td>\n",
       "      <td>28.545561</td>\n",
       "      <td>77.254349</td>\n",
       "      <td>22000</td>\n",
       "      <td>1.0</td>\n",
       "      <td>2.0</td>\n",
       "      <td>1</td>\n",
       "      <td>20</td>\n",
       "      <td>103</td>\n",
       "      <td>0</td>\n",
       "      <td>1</td>\n",
       "      <td>0</td>\n",
       "      <td>1</td>\n",
       "      <td>1</td>\n",
       "      <td>400</td>\n",
       "    </tr>\n",
       "    <tr>\n",
       "      <th>1</th>\n",
       "      <td>0</td>\n",
       "      <td>196</td>\n",
       "      <td>28.643259</td>\n",
       "      <td>77.132828</td>\n",
       "      <td>20000</td>\n",
       "      <td>1.0</td>\n",
       "      <td>2.0</td>\n",
       "      <td>1</td>\n",
       "      <td>36</td>\n",
       "      <td>103</td>\n",
       "      <td>0</td>\n",
       "      <td>1</td>\n",
       "      <td>0</td>\n",
       "      <td>1</td>\n",
       "      <td>1</td>\n",
       "      <td>400</td>\n",
       "    </tr>\n",
       "    <tr>\n",
       "      <th>2</th>\n",
       "      <td>2</td>\n",
       "      <td>49</td>\n",
       "      <td>28.618677</td>\n",
       "      <td>77.053352</td>\n",
       "      <td>8500</td>\n",
       "      <td>1.0</td>\n",
       "      <td>2.0</td>\n",
       "      <td>1</td>\n",
       "      <td>13</td>\n",
       "      <td>103</td>\n",
       "      <td>1</td>\n",
       "      <td>1</td>\n",
       "      <td>0</td>\n",
       "      <td>1</td>\n",
       "      <td>2</td>\n",
       "      <td>500</td>\n",
       "    </tr>\n",
       "    <tr>\n",
       "      <th>3</th>\n",
       "      <td>3</td>\n",
       "      <td>99</td>\n",
       "      <td>28.712898</td>\n",
       "      <td>77.180000</td>\n",
       "      <td>48000</td>\n",
       "      <td>3.0</td>\n",
       "      <td>2.0</td>\n",
       "      <td>1</td>\n",
       "      <td>48</td>\n",
       "      <td>103</td>\n",
       "      <td>0</td>\n",
       "      <td>1</td>\n",
       "      <td>0</td>\n",
       "      <td>1</td>\n",
       "      <td>3</td>\n",
       "      <td>1020</td>\n",
       "    </tr>\n",
       "    <tr>\n",
       "      <th>4</th>\n",
       "      <td>0</td>\n",
       "      <td>108</td>\n",
       "      <td>28.723539</td>\n",
       "      <td>77.131424</td>\n",
       "      <td>20000</td>\n",
       "      <td>2.0</td>\n",
       "      <td>2.0</td>\n",
       "      <td>1</td>\n",
       "      <td>48</td>\n",
       "      <td>103</td>\n",
       "      <td>2</td>\n",
       "      <td>1</td>\n",
       "      <td>0</td>\n",
       "      <td>1</td>\n",
       "      <td>2</td>\n",
       "      <td>810</td>\n",
       "    </tr>\n",
       "  </tbody>\n",
       "</table>\n",
       "</div>"
      ],
      "text/plain": [
       "   house_type  location   latitude  longitude  price  numBathrooms  \\\n",
       "0           0       201  28.545561  77.254349  22000           1.0   \n",
       "1           0       196  28.643259  77.132828  20000           1.0   \n",
       "2           2        49  28.618677  77.053352   8500           1.0   \n",
       "3           3        99  28.712898  77.180000  48000           3.0   \n",
       "4           0       108  28.723539  77.131424  20000           2.0   \n",
       "\n",
       "   numBalconies  isNegotiable  verificationDate  SecurityDeposit  Status  \\\n",
       "0           2.0             1                20              103       0   \n",
       "1           2.0             1                36              103       0   \n",
       "2           2.0             1                13              103       1   \n",
       "3           2.0             1                48              103       0   \n",
       "4           2.0             1                48              103       2   \n",
       "\n",
       "   isNegotiable_nan  numBathrooms_nan  numBalconies_nan  bhk  house_size_sqft  \n",
       "0                 1                 0                 1    1              400  \n",
       "1                 1                 0                 1    1              400  \n",
       "2                 1                 0                 1    2              500  \n",
       "3                 1                 0                 1    3             1020  \n",
       "4                 1                 0                 1    2              810  "
      ]
     },
     "execution_count": 146,
     "metadata": {},
     "output_type": "execute_result"
    }
   ],
   "source": [
    "cat_feature = [feature for feature in df2.columns if df2[feature].dtype == 'O']\n",
    "\n",
    "for feature in cat_feature:\n",
    "    label_ordered = df2.groupby(feature)['price'].mean().sort_values().index\n",
    "    label_ordered = {k:i for i,k in enumerate(label_ordered, 0)}\n",
    "    df2[feature] = df2[feature].map(label_ordered)\n",
    "\n",
    "df2.head()"
   ]
  },
  {
   "cell_type": "code",
   "execution_count": 147,
   "id": "4d207a15",
   "metadata": {
    "colab": {
     "base_uri": "https://localhost:8080/",
     "height": 226
    },
    "executionInfo": {
     "elapsed": 21,
     "status": "ok",
     "timestamp": 1732010718220,
     "user": {
      "displayName": "Mayur Valvi",
      "userId": "08772129272918674075"
     },
     "user_tz": -330
    },
    "id": "4d207a15",
    "outputId": "109a0a15-e650-49bb-ca2d-25b6361b1c7a",
    "papermill": {
     "duration": 0.052218,
     "end_time": "2024-08-14T13:49:35.863202",
     "exception": false,
     "start_time": "2024-08-14T13:49:35.810984",
     "status": "completed"
    },
    "tags": []
   },
   "outputs": [
    {
     "data": {
      "text/html": [
       "<div>\n",
       "<style scoped>\n",
       "    .dataframe tbody tr th:only-of-type {\n",
       "        vertical-align: middle;\n",
       "    }\n",
       "\n",
       "    .dataframe tbody tr th {\n",
       "        vertical-align: top;\n",
       "    }\n",
       "\n",
       "    .dataframe thead th {\n",
       "        text-align: right;\n",
       "    }\n",
       "</style>\n",
       "<table border=\"1\" class=\"dataframe\">\n",
       "  <thead>\n",
       "    <tr style=\"text-align: right;\">\n",
       "      <th></th>\n",
       "      <th>house_type</th>\n",
       "      <th>location</th>\n",
       "      <th>latitude</th>\n",
       "      <th>longitude</th>\n",
       "      <th>price</th>\n",
       "      <th>numBathrooms</th>\n",
       "      <th>numBalconies</th>\n",
       "      <th>isNegotiable</th>\n",
       "      <th>verificationDate</th>\n",
       "      <th>SecurityDeposit</th>\n",
       "      <th>Status</th>\n",
       "      <th>isNegotiable_nan</th>\n",
       "      <th>numBathrooms_nan</th>\n",
       "      <th>numBalconies_nan</th>\n",
       "      <th>bhk</th>\n",
       "      <th>house_size_sqft</th>\n",
       "    </tr>\n",
       "  </thead>\n",
       "  <tbody>\n",
       "    <tr>\n",
       "      <th>0</th>\n",
       "      <td>0</td>\n",
       "      <td>201</td>\n",
       "      <td>28.545561</td>\n",
       "      <td>77.254349</td>\n",
       "      <td>9.998798</td>\n",
       "      <td>1.0</td>\n",
       "      <td>2.0</td>\n",
       "      <td>1</td>\n",
       "      <td>20</td>\n",
       "      <td>103</td>\n",
       "      <td>0</td>\n",
       "      <td>1</td>\n",
       "      <td>0</td>\n",
       "      <td>1</td>\n",
       "      <td>1</td>\n",
       "      <td>400</td>\n",
       "    </tr>\n",
       "    <tr>\n",
       "      <th>1</th>\n",
       "      <td>0</td>\n",
       "      <td>196</td>\n",
       "      <td>28.643259</td>\n",
       "      <td>77.132828</td>\n",
       "      <td>9.903488</td>\n",
       "      <td>1.0</td>\n",
       "      <td>2.0</td>\n",
       "      <td>1</td>\n",
       "      <td>36</td>\n",
       "      <td>103</td>\n",
       "      <td>0</td>\n",
       "      <td>1</td>\n",
       "      <td>0</td>\n",
       "      <td>1</td>\n",
       "      <td>1</td>\n",
       "      <td>400</td>\n",
       "    </tr>\n",
       "    <tr>\n",
       "      <th>2</th>\n",
       "      <td>2</td>\n",
       "      <td>49</td>\n",
       "      <td>28.618677</td>\n",
       "      <td>77.053352</td>\n",
       "      <td>9.047821</td>\n",
       "      <td>1.0</td>\n",
       "      <td>2.0</td>\n",
       "      <td>1</td>\n",
       "      <td>13</td>\n",
       "      <td>103</td>\n",
       "      <td>1</td>\n",
       "      <td>1</td>\n",
       "      <td>0</td>\n",
       "      <td>1</td>\n",
       "      <td>2</td>\n",
       "      <td>500</td>\n",
       "    </tr>\n",
       "    <tr>\n",
       "      <th>3</th>\n",
       "      <td>3</td>\n",
       "      <td>99</td>\n",
       "      <td>28.712898</td>\n",
       "      <td>77.180000</td>\n",
       "      <td>10.778956</td>\n",
       "      <td>3.0</td>\n",
       "      <td>2.0</td>\n",
       "      <td>1</td>\n",
       "      <td>48</td>\n",
       "      <td>103</td>\n",
       "      <td>0</td>\n",
       "      <td>1</td>\n",
       "      <td>0</td>\n",
       "      <td>1</td>\n",
       "      <td>3</td>\n",
       "      <td>1020</td>\n",
       "    </tr>\n",
       "    <tr>\n",
       "      <th>4</th>\n",
       "      <td>0</td>\n",
       "      <td>108</td>\n",
       "      <td>28.723539</td>\n",
       "      <td>77.131424</td>\n",
       "      <td>9.903488</td>\n",
       "      <td>2.0</td>\n",
       "      <td>2.0</td>\n",
       "      <td>1</td>\n",
       "      <td>48</td>\n",
       "      <td>103</td>\n",
       "      <td>2</td>\n",
       "      <td>1</td>\n",
       "      <td>0</td>\n",
       "      <td>1</td>\n",
       "      <td>2</td>\n",
       "      <td>810</td>\n",
       "    </tr>\n",
       "  </tbody>\n",
       "</table>\n",
       "</div>"
      ],
      "text/plain": [
       "   house_type  location   latitude  longitude      price  numBathrooms  \\\n",
       "0           0       201  28.545561  77.254349   9.998798           1.0   \n",
       "1           0       196  28.643259  77.132828   9.903488           1.0   \n",
       "2           2        49  28.618677  77.053352   9.047821           1.0   \n",
       "3           3        99  28.712898  77.180000  10.778956           3.0   \n",
       "4           0       108  28.723539  77.131424   9.903488           2.0   \n",
       "\n",
       "   numBalconies  isNegotiable  verificationDate  SecurityDeposit  Status  \\\n",
       "0           2.0             1                20              103       0   \n",
       "1           2.0             1                36              103       0   \n",
       "2           2.0             1                13              103       1   \n",
       "3           2.0             1                48              103       0   \n",
       "4           2.0             1                48              103       2   \n",
       "\n",
       "   isNegotiable_nan  numBathrooms_nan  numBalconies_nan  bhk  house_size_sqft  \n",
       "0                 1                 0                 1    1              400  \n",
       "1                 1                 0                 1    1              400  \n",
       "2                 1                 0                 1    2              500  \n",
       "3                 1                 0                 1    3             1020  \n",
       "4                 1                 0                 1    2              810  "
      ]
     },
     "execution_count": 147,
     "metadata": {},
     "output_type": "execute_result"
    }
   ],
   "source": [
    "#Normalizing Rent\n",
    "\n",
    "df2['price'] = np.log(df2['price'])\n",
    "df2.head()"
   ]
  },
  {
   "cell_type": "code",
   "execution_count": 148,
   "id": "18b5c2ea",
   "metadata": {
    "colab": {
     "base_uri": "https://localhost:8080/",
     "height": 226
    },
    "executionInfo": {
     "elapsed": 20,
     "status": "ok",
     "timestamp": 1732010718220,
     "user": {
      "displayName": "Mayur Valvi",
      "userId": "08772129272918674075"
     },
     "user_tz": -330
    },
    "id": "18b5c2ea",
    "outputId": "821f7164-c70c-4d21-eb1e-ddb40f3fc572",
    "papermill": {
     "duration": 0.068004,
     "end_time": "2024-08-14T13:49:35.958378",
     "exception": false,
     "start_time": "2024-08-14T13:49:35.890374",
     "status": "completed"
    },
    "tags": []
   },
   "outputs": [
    {
     "data": {
      "text/html": [
       "<div>\n",
       "<style scoped>\n",
       "    .dataframe tbody tr th:only-of-type {\n",
       "        vertical-align: middle;\n",
       "    }\n",
       "\n",
       "    .dataframe tbody tr th {\n",
       "        vertical-align: top;\n",
       "    }\n",
       "\n",
       "    .dataframe thead th {\n",
       "        text-align: right;\n",
       "    }\n",
       "</style>\n",
       "<table border=\"1\" class=\"dataframe\">\n",
       "  <thead>\n",
       "    <tr style=\"text-align: right;\">\n",
       "      <th></th>\n",
       "      <th>price</th>\n",
       "      <th>house_type</th>\n",
       "      <th>location</th>\n",
       "      <th>latitude</th>\n",
       "      <th>longitude</th>\n",
       "      <th>numBathrooms</th>\n",
       "      <th>numBalconies</th>\n",
       "      <th>isNegotiable</th>\n",
       "      <th>verificationDate</th>\n",
       "      <th>SecurityDeposit</th>\n",
       "      <th>Status</th>\n",
       "      <th>isNegotiable_nan</th>\n",
       "      <th>numBathrooms_nan</th>\n",
       "      <th>numBalconies_nan</th>\n",
       "      <th>bhk</th>\n",
       "      <th>house_size_sqft</th>\n",
       "    </tr>\n",
       "  </thead>\n",
       "  <tbody>\n",
       "    <tr>\n",
       "      <th>0</th>\n",
       "      <td>9.998798</td>\n",
       "      <td>-1.694703</td>\n",
       "      <td>-0.066522</td>\n",
       "      <td>-0.170645</td>\n",
       "      <td>0.690597</td>\n",
       "      <td>-1.768653</td>\n",
       "      <td>0.061663</td>\n",
       "      <td>0.192689</td>\n",
       "      <td>-2.274060</td>\n",
       "      <td>-0.680744</td>\n",
       "      <td>-1.845657</td>\n",
       "      <td>0.192689</td>\n",
       "      <td>-0.070888</td>\n",
       "      <td>1.099753</td>\n",
       "      <td>-1.820451</td>\n",
       "      <td>-1.191122</td>\n",
       "    </tr>\n",
       "    <tr>\n",
       "      <th>1</th>\n",
       "      <td>9.903488</td>\n",
       "      <td>-1.694703</td>\n",
       "      <td>-0.139295</td>\n",
       "      <td>0.343105</td>\n",
       "      <td>-0.360396</td>\n",
       "      <td>-1.768653</td>\n",
       "      <td>0.061663</td>\n",
       "      <td>0.192689</td>\n",
       "      <td>-0.672398</td>\n",
       "      <td>-0.680744</td>\n",
       "      <td>-1.845657</td>\n",
       "      <td>0.192689</td>\n",
       "      <td>-0.070888</td>\n",
       "      <td>1.099753</td>\n",
       "      <td>-1.820451</td>\n",
       "      <td>-1.191122</td>\n",
       "    </tr>\n",
       "    <tr>\n",
       "      <th>2</th>\n",
       "      <td>9.047821</td>\n",
       "      <td>0.146765</td>\n",
       "      <td>-2.278796</td>\n",
       "      <td>0.213840</td>\n",
       "      <td>-1.047752</td>\n",
       "      <td>-1.768653</td>\n",
       "      <td>0.061663</td>\n",
       "      <td>0.192689</td>\n",
       "      <td>-2.974788</td>\n",
       "      <td>-0.680744</td>\n",
       "      <td>-0.448702</td>\n",
       "      <td>0.192689</td>\n",
       "      <td>-0.070888</td>\n",
       "      <td>1.099753</td>\n",
       "      <td>-0.955053</td>\n",
       "      <td>-1.145007</td>\n",
       "    </tr>\n",
       "    <tr>\n",
       "      <th>3</th>\n",
       "      <td>10.778956</td>\n",
       "      <td>1.067499</td>\n",
       "      <td>-1.551074</td>\n",
       "      <td>0.709306</td>\n",
       "      <td>0.047583</td>\n",
       "      <td>0.074654</td>\n",
       "      <td>0.061663</td>\n",
       "      <td>0.192689</td>\n",
       "      <td>0.528849</td>\n",
       "      <td>-0.680744</td>\n",
       "      <td>-1.845657</td>\n",
       "      <td>0.192689</td>\n",
       "      <td>-0.070888</td>\n",
       "      <td>1.099753</td>\n",
       "      <td>-0.089655</td>\n",
       "      <td>-0.905204</td>\n",
       "    </tr>\n",
       "    <tr>\n",
       "      <th>4</th>\n",
       "      <td>9.903488</td>\n",
       "      <td>-1.694703</td>\n",
       "      <td>-1.420084</td>\n",
       "      <td>0.765263</td>\n",
       "      <td>-0.372537</td>\n",
       "      <td>-0.847000</td>\n",
       "      <td>0.061663</td>\n",
       "      <td>0.192689</td>\n",
       "      <td>0.528849</td>\n",
       "      <td>-0.680744</td>\n",
       "      <td>0.948253</td>\n",
       "      <td>0.192689</td>\n",
       "      <td>-0.070888</td>\n",
       "      <td>1.099753</td>\n",
       "      <td>-0.955053</td>\n",
       "      <td>-1.002047</td>\n",
       "    </tr>\n",
       "  </tbody>\n",
       "</table>\n",
       "</div>"
      ],
      "text/plain": [
       "       price  house_type  location  latitude  longitude  numBathrooms  \\\n",
       "0   9.998798   -1.694703 -0.066522 -0.170645   0.690597     -1.768653   \n",
       "1   9.903488   -1.694703 -0.139295  0.343105  -0.360396     -1.768653   \n",
       "2   9.047821    0.146765 -2.278796  0.213840  -1.047752     -1.768653   \n",
       "3  10.778956    1.067499 -1.551074  0.709306   0.047583      0.074654   \n",
       "4   9.903488   -1.694703 -1.420084  0.765263  -0.372537     -0.847000   \n",
       "\n",
       "   numBalconies  isNegotiable  verificationDate  SecurityDeposit    Status  \\\n",
       "0      0.061663      0.192689         -2.274060        -0.680744 -1.845657   \n",
       "1      0.061663      0.192689         -0.672398        -0.680744 -1.845657   \n",
       "2      0.061663      0.192689         -2.974788        -0.680744 -0.448702   \n",
       "3      0.061663      0.192689          0.528849        -0.680744 -1.845657   \n",
       "4      0.061663      0.192689          0.528849        -0.680744  0.948253   \n",
       "\n",
       "   isNegotiable_nan  numBathrooms_nan  numBalconies_nan       bhk  \\\n",
       "0          0.192689         -0.070888          1.099753 -1.820451   \n",
       "1          0.192689         -0.070888          1.099753 -1.820451   \n",
       "2          0.192689         -0.070888          1.099753 -0.955053   \n",
       "3          0.192689         -0.070888          1.099753 -0.089655   \n",
       "4          0.192689         -0.070888          1.099753 -0.955053   \n",
       "\n",
       "   house_size_sqft  \n",
       "0        -1.191122  \n",
       "1        -1.191122  \n",
       "2        -1.145007  \n",
       "3        -0.905204  \n",
       "4        -1.002047  "
      ]
     },
     "execution_count": 148,
     "metadata": {},
     "output_type": "execute_result"
    }
   ],
   "source": [
    "#Scaling the features\n",
    "\n",
    "feature_scale = [feature for feature in df2.columns if feature != 'price']\n",
    "\n",
    "scaler = StandardScaler()\n",
    "scaler.fit(df2[feature_scale])\n",
    "\n",
    "df_scaled = pd.concat([df2['price'].reset_index(drop=True),pd.DataFrame(scaler.transform(df2[feature_scale]), columns = feature_scale)],axis=1)\n",
    "df_scaled.head()"
   ]
  },
  {
   "cell_type": "code",
   "execution_count": 215,
   "id": "d6f2b65d-e6b6-4ca7-a1e1-300680dce1e5",
   "metadata": {},
   "outputs": [
    {
     "name": "stdout",
     "output_type": "stream",
     "text": [
      "<class 'pandas.core.frame.DataFrame'>\n",
      "RangeIndex: 5000 entries, 0 to 4999\n",
      "Data columns (total 16 columns):\n",
      " #   Column            Non-Null Count  Dtype  \n",
      "---  ------            --------------  -----  \n",
      " 0   price             5000 non-null   float64\n",
      " 1   house_type        5000 non-null   float64\n",
      " 2   location          5000 non-null   float64\n",
      " 3   latitude          5000 non-null   float64\n",
      " 4   longitude         5000 non-null   float64\n",
      " 5   numBathrooms      5000 non-null   float64\n",
      " 6   numBalconies      5000 non-null   float64\n",
      " 7   isNegotiable      5000 non-null   float64\n",
      " 8   verificationDate  5000 non-null   float64\n",
      " 9   SecurityDeposit   5000 non-null   float64\n",
      " 10  Status            5000 non-null   float64\n",
      " 11  isNegotiable_nan  5000 non-null   float64\n",
      " 12  numBathrooms_nan  5000 non-null   float64\n",
      " 13  numBalconies_nan  5000 non-null   float64\n",
      " 14  bhk               5000 non-null   float64\n",
      " 15  house_size_sqft   5000 non-null   float64\n",
      "dtypes: float64(16)\n",
      "memory usage: 625.1 KB\n"
     ]
    }
   ],
   "source": [
    "df_scaled.info()"
   ]
  },
  {
   "cell_type": "markdown",
   "id": "0e49b147",
   "metadata": {
    "id": "0e49b147",
    "papermill": {
     "duration": 0.028484,
     "end_time": "2024-08-14T13:49:36.014709",
     "exception": false,
     "start_time": "2024-08-14T13:49:35.986225",
     "status": "completed"
    },
    "tags": []
   },
   "source": [
    "# 5. Feature Selection"
   ]
  },
  {
   "cell_type": "code",
   "execution_count": 150,
   "id": "5e5d9405",
   "metadata": {
    "colab": {
     "base_uri": "https://localhost:8080/",
     "height": 824
    },
    "executionInfo": {
     "elapsed": 4243,
     "status": "ok",
     "timestamp": 1732010722443,
     "user": {
      "displayName": "Mayur Valvi",
      "userId": "08772129272918674075"
     },
     "user_tz": -330
    },
    "id": "5e5d9405",
    "outputId": "8089a773-5642-4c8f-979f-65a476f4de21",
    "papermill": {
     "duration": 1.133684,
     "end_time": "2024-08-14T13:49:37.175824",
     "exception": false,
     "start_time": "2024-08-14T13:49:36.042140",
     "status": "completed"
    },
    "tags": []
   },
   "outputs": [
    {
     "data": {
      "image/png": "[encoded data removed]",
      "text/plain": [
       "<Figure size 1000x800 with 2 Axes>"
      ]
     },
     "metadata": {},
     "output_type": "display_data"
    }
   ],
   "source": [
    "plt.figure(figsize=(10, 8))\n",
    "sns.heatmap(df_scaled.corr(), annot=True, cmap='coolwarm', fmt=\".2f\")\n",
    "plt.title('Correlation Heatmap')\n",
    "plt.show()"
   ]
  },
  {
   "cell_type": "code",
   "execution_count": 151,
   "id": "8e449f47",
   "metadata": {
    "colab": {
     "base_uri": "https://localhost:8080/",
     "height": 134
    },
    "executionInfo": {
     "elapsed": 26,
     "status": "ok",
     "timestamp": 1732010722443,
     "user": {
      "displayName": "Mayur Valvi",
      "userId": "08772129272918674075"
     },
     "user_tz": -330
    },
    "id": "8e449f47",
    "outputId": "e8470a82-3a5f-44a1-c038-b216fd66c551",
    "papermill": {
     "duration": 0.076875,
     "end_time": "2024-08-14T13:49:37.283878",
     "exception": false,
     "start_time": "2024-08-14T13:49:37.207003",
     "status": "completed"
    },
    "tags": []
   },
   "outputs": [
    {
     "data": {
      "text/html": [
       "<style>#sk-container-id-1 {\n",
       "  /* Definition of color scheme common for light and dark mode */\n",
       "  --sklearn-color-text: black;\n",
       "  --sklearn-color-line: gray;\n",
       "  /* Definition of color scheme for unfitted estimators */\n",
       "  --sklearn-color-unfitted-level-0: #fff5e6;\n",
       "  --sklearn-color-unfitted-level-1: #f6e4d2;\n",
       "  --sklearn-color-unfitted-level-2: #ffe0b3;\n",
       "  --sklearn-color-unfitted-level-3: chocolate;\n",
       "  /* Definition of color scheme for fitted estimators */\n",
       "  --sklearn-color-fitted-level-0: #f0f8ff;\n",
       "  --sklearn-color-fitted-level-1: #d4ebff;\n",
       "  --sklearn-color-fitted-level-2: #b3dbfd;\n",
       "  --sklearn-color-fitted-level-3: cornflowerblue;\n",
       "\n",
       "  /* Specific color for light theme */\n",
       "  --sklearn-color-text-on-default-background: var(--sg-text-color, var(--theme-code-foreground, var(--jp-content-font-color1, black)));\n",
       "  --sklearn-color-background: var(--sg-background-color, var(--theme-background, var(--jp-layout-color0, white)));\n",
       "  --sklearn-color-border-box: var(--sg-text-color, var(--theme-code-foreground, var(--jp-content-font-color1, black)));\n",
       "  --sklearn-color-icon: #696969;\n",
       "\n",
       "  @media (prefers-color-scheme: dark) {\n",
       "    /* Redefinition of color scheme for dark theme */\n",
       "    --sklearn-color-text-on-default-background: var(--sg-text-color, var(--theme-code-foreground, var(--jp-content-font-color1, white)));\n",
       "    --sklearn-color-background: var(--sg-background-color, var(--theme-background, var(--jp-layout-color0, #111)));\n",
       "    --sklearn-color-border-box: var(--sg-text-color, var(--theme-code-foreground, var(--jp-content-font-color1, white)));\n",
       "    --sklearn-color-icon: #878787;\n",
       "  }\n",
       "}\n",
       "\n",
       "#sk-container-id-1 {\n",
       "  color: var(--sklearn-color-text);\n",
       "}\n",
       "\n",
       "#sk-container-id-1 pre {\n",
       "  padding: 0;\n",
       "}\n",
       "\n",
       "#sk-container-id-1 input.sk-hidden--visually {\n",
       "  border: 0;\n",
       "  clip: rect(1px 1px 1px 1px);\n",
       "  clip: rect(1px, 1px, 1px, 1px);\n",
       "  height: 1px;\n",
       "  margin: -1px;\n",
       "  overflow: hidden;\n",
       "  padding: 0;\n",
       "  position: absolute;\n",
       "  width: 1px;\n",
       "}\n",
       "\n",
       "#sk-container-id-1 div.sk-dashed-wrapped {\n",
       "  border: 1px dashed var(--sklearn-color-line);\n",
       "  margin: 0 0.4em 0.5em 0.4em;\n",
       "  box-sizing: border-box;\n",
       "  padding-bottom: 0.4em;\n",
       "  background-color: var(--sklearn-color-background);\n",
       "}\n",
       "\n",
       "#sk-container-id-1 div.sk-container {\n",
       "  /* jupyter's `normalize.less` sets `[hidden] { display: none; }`\n",
       "     but bootstrap.min.css set `[hidden] { display: none !important; }`\n",
       "     so we also need the `!important` here to be able to override the\n",
       "     default hidden behavior on the sphinx rendered scikit-learn.org.\n",
       "     See: https://github.com/scikit-learn/scikit-learn/issues/21755 */\n",
       "  display: inline-block !important;\n",
       "  position: relative;\n",
       "}\n",
       "\n",
       "#sk-container-id-1 div.sk-text-repr-fallback {\n",
       "  display: none;\n",
       "}\n",
       "\n",
       "div.sk-parallel-item,\n",
       "div.sk-serial,\n",
       "div.sk-item {\n",
       "  /* draw centered vertical line to link estimators */\n",
       "  background-image: linear-gradient(var(--sklearn-color-text-on-default-background), var(--sklearn-color-text-on-default-background));\n",
       "  background-size: 2px 100%;\n",
       "  background-repeat: no-repeat;\n",
       "  background-position: center center;\n",
       "}\n",
       "\n",
       "/* Parallel-specific style estimator block */\n",
       "\n",
       "#sk-container-id-1 div.sk-parallel-item::after {\n",
       "  content: \"\";\n",
       "  width: 100%;\n",
       "  border-bottom: 2px solid var(--sklearn-color-text-on-default-background);\n",
       "  flex-grow: 1;\n",
       "}\n",
       "\n",
       "#sk-container-id-1 div.sk-parallel {\n",
       "  display: flex;\n",
       "  align-items: stretch;\n",
       "  justify-content: center;\n",
       "  background-color: var(--sklearn-color-background);\n",
       "  position: relative;\n",
       "}\n",
       "\n",
       "#sk-container-id-1 div.sk-parallel-item {\n",
       "  display: flex;\n",
       "  flex-direction: column;\n",
       "}\n",
       "\n",
       "#sk-container-id-1 div.sk-parallel-item:first-child::after {\n",
       "  align-self: flex-end;\n",
       "  width: 50%;\n",
       "}\n",
       "\n",
       "#sk-container-id-1 div.sk-parallel-item:last-child::after {\n",
       "  align-self: flex-start;\n",
       "  width: 50%;\n",
       "}\n",
       "\n",
       "#sk-container-id-1 div.sk-parallel-item:only-child::after {\n",
       "  width: 0;\n",
       "}\n",
       "\n",
       "/* Serial-specific style estimator block */\n",
       "\n",
       "#sk-container-id-1 div.sk-serial {\n",
       "  display: flex;\n",
       "  flex-direction: column;\n",
       "  align-items: center;\n",
       "  background-color: var(--sklearn-color-background);\n",
       "  padding-right: 1em;\n",
       "  padding-left: 1em;\n",
       "}\n",
       "\n",
       "\n",
       "/* Toggleable style: style used for estimator/Pipeline/ColumnTransformer box that is\n",
       "clickable and can be expanded/collapsed.\n",
       "- Pipeline and ColumnTransformer use this feature and define the default style\n",
       "- Estimators will overwrite some part of the style using the `sk-estimator` class\n",
       "*/\n",
       "\n",
       "/* Pipeline and ColumnTransformer style (default) */\n",
       "\n",
       "#sk-container-id-1 div.sk-toggleable {\n",
       "  /* Default theme specific background. It is overwritten whether we have a\n",
       "  specific estimator or a Pipeline/ColumnTransformer */\n",
       "  background-color: var(--sklearn-color-background);\n",
       "}\n",
       "\n",
       "/* Toggleable label */\n",
       "#sk-container-id-1 label.sk-toggleable__label {\n",
       "  cursor: pointer;\n",
       "  display: block;\n",
       "  width: 100%;\n",
       "  margin-bottom: 0;\n",
       "  padding: 0.5em;\n",
       "  box-sizing: border-box;\n",
       "  text-align: center;\n",
       "}\n",
       "\n",
       "#sk-container-id-1 label.sk-toggleable__label-arrow:before {\n",
       "  /* Arrow on the left of the label */\n",
       "  content: \"▸\";\n",
       "  float: left;\n",
       "  margin-right: 0.25em;\n",
       "  color: var(--sklearn-color-icon);\n",
       "}\n",
       "\n",
       "#sk-container-id-1 label.sk-toggleable__label-arrow:hover:before {\n",
       "  color: var(--sklearn-color-text);\n",
       "}\n",
       "\n",
       "/* Toggleable content - dropdown */\n",
       "\n",
       "#sk-container-id-1 div.sk-toggleable__content {\n",
       "  max-height: 0;\n",
       "  max-width: 0;\n",
       "  overflow: hidden;\n",
       "  text-align: left;\n",
       "  /* unfitted */\n",
       "  background-color: var(--sklearn-color-unfitted-level-0);\n",
       "}\n",
       "\n",
       "#sk-container-id-1 div.sk-toggleable__content.fitted {\n",
       "  /* fitted */\n",
       "  background-color: var(--sklearn-color-fitted-level-0);\n",
       "}\n",
       "\n",
       "#sk-container-id-1 div.sk-toggleable__content pre {\n",
       "  margin: 0.2em;\n",
       "  border-radius: 0.25em;\n",
       "  color: var(--sklearn-color-text);\n",
       "  /* unfitted */\n",
       "  background-color: var(--sklearn-color-unfitted-level-0);\n",
       "}\n",
       "\n",
       "#sk-container-id-1 div.sk-toggleable__content.fitted pre {\n",
       "  /* unfitted */\n",
       "  background-color: var(--sklearn-color-fitted-level-0);\n",
       "}\n",
       "\n",
       "#sk-container-id-1 input.sk-toggleable__control:checked~div.sk-toggleable__content {\n",
       "  /* Expand drop-down */\n",
       "  max-height: 200px;\n",
       "  max-width: 100%;\n",
       "  overflow: auto;\n",
       "}\n",
       "\n",
       "#sk-container-id-1 input.sk-toggleable__control:checked~label.sk-toggleable__label-arrow:before {\n",
       "  content: \"▾\";\n",
       "}\n",
       "\n",
       "/* Pipeline/ColumnTransformer-specific style */\n",
       "\n",
       "#sk-container-id-1 div.sk-label input.sk-toggleable__control:checked~label.sk-toggleable__label {\n",
       "  color: var(--sklearn-color-text);\n",
       "  background-color: var(--sklearn-color-unfitted-level-2);\n",
       "}\n",
       "\n",
       "#sk-container-id-1 div.sk-label.fitted input.sk-toggleable__control:checked~label.sk-toggleable__label {\n",
       "  background-color: var(--sklearn-color-fitted-level-2);\n",
       "}\n",
       "\n",
       "/* Estimator-specific style */\n",
       "\n",
       "/* Colorize estimator box */\n",
       "#sk-container-id-1 div.sk-estimator input.sk-toggleable__control:checked~label.sk-toggleable__label {\n",
       "  /* unfitted */\n",
       "  background-color: var(--sklearn-color-unfitted-level-2);\n",
       "}\n",
       "\n",
       "#sk-container-id-1 div.sk-estimator.fitted input.sk-toggleable__control:checked~label.sk-toggleable__label {\n",
       "  /* fitted */\n",
       "  background-color: var(--sklearn-color-fitted-level-2);\n",
       "}\n",
       "\n",
       "#sk-container-id-1 div.sk-label label.sk-toggleable__label,\n",
       "#sk-container-id-1 div.sk-label label {\n",
       "  /* The background is the default theme color */\n",
       "  color: var(--sklearn-color-text-on-default-background);\n",
       "}\n",
       "\n",
       "/* On hover, darken the color of the background */\n",
       "#sk-container-id-1 div.sk-label:hover label.sk-toggleable__label {\n",
       "  color: var(--sklearn-color-text);\n",
       "  background-color: var(--sklearn-color-unfitted-level-2);\n",
       "}\n",
       "\n",
       "/* Label box, darken color on hover, fitted */\n",
       "#sk-container-id-1 div.sk-label.fitted:hover label.sk-toggleable__label.fitted {\n",
       "  color: var(--sklearn-color-text);\n",
       "  background-color: var(--sklearn-color-fitted-level-2);\n",
       "}\n",
       "\n",
       "/* Estimator label */\n",
       "\n",
       "#sk-container-id-1 div.sk-label label {\n",
       "  font-family: monospace;\n",
       "  font-weight: bold;\n",
       "  display: inline-block;\n",
       "  line-height: 1.2em;\n",
       "}\n",
       "\n",
       "#sk-container-id-1 div.sk-label-container {\n",
       "  text-align: center;\n",
       "}\n",
       "\n",
       "/* Estimator-specific */\n",
       "#sk-container-id-1 div.sk-estimator {\n",
       "  font-family: monospace;\n",
       "  border: 1px dotted var(--sklearn-color-border-box);\n",
       "  border-radius: 0.25em;\n",
       "  box-sizing: border-box;\n",
       "  margin-bottom: 0.5em;\n",
       "  /* unfitted */\n",
       "  background-color: var(--sklearn-color-unfitted-level-0);\n",
       "}\n",
       "\n",
       "#sk-container-id-1 div.sk-estimator.fitted {\n",
       "  /* fitted */\n",
       "  background-color: var(--sklearn-color-fitted-level-0);\n",
       "}\n",
       "\n",
       "/* on hover */\n",
       "#sk-container-id-1 div.sk-estimator:hover {\n",
       "  /* unfitted */\n",
       "  background-color: var(--sklearn-color-unfitted-level-2);\n",
       "}\n",
       "\n",
       "#sk-container-id-1 div.sk-estimator.fitted:hover {\n",
       "  /* fitted */\n",
       "  background-color: var(--sklearn-color-fitted-level-2);\n",
       "}\n",
       "\n",
       "/* Specification for estimator info (e.g. \"i\" and \"?\") */\n",
       "\n",
       "/* Common style for \"i\" and \"?\" */\n",
       "\n",
       ".sk-estimator-doc-link,\n",
       "a:link.sk-estimator-doc-link,\n",
       "a:visited.sk-estimator-doc-link {\n",
       "  float: right;\n",
       "  font-size: smaller;\n",
       "  line-height: 1em;\n",
       "  font-family: monospace;\n",
       "  background-color: var(--sklearn-color-background);\n",
       "  border-radius: 1em;\n",
       "  height: 1em;\n",
       "  width: 1em;\n",
       "  text-decoration: none !important;\n",
       "  margin-left: 1ex;\n",
       "  /* unfitted */\n",
       "  border: var(--sklearn-color-unfitted-level-1) 1pt solid;\n",
       "  color: var(--sklearn-color-unfitted-level-1);\n",
       "}\n",
       "\n",
       ".sk-estimator-doc-link.fitted,\n",
       "a:link.sk-estimator-doc-link.fitted,\n",
       "a:visited.sk-estimator-doc-link.fitted {\n",
       "  /* fitted */\n",
       "  border: var(--sklearn-color-fitted-level-1) 1pt solid;\n",
       "  color: var(--sklearn-color-fitted-level-1);\n",
       "}\n",
       "\n",
       "/* On hover */\n",
       "div.sk-estimator:hover .sk-estimator-doc-link:hover,\n",
       ".sk-estimator-doc-link:hover,\n",
       "div.sk-label-container:hover .sk-estimator-doc-link:hover,\n",
       ".sk-estimator-doc-link:hover {\n",
       "  /* unfitted */\n",
       "  background-color: var(--sklearn-color-unfitted-level-3);\n",
       "  color: var(--sklearn-color-background);\n",
       "  text-decoration: none;\n",
       "}\n",
       "\n",
       "div.sk-estimator.fitted:hover .sk-estimator-doc-link.fitted:hover,\n",
       ".sk-estimator-doc-link.fitted:hover,\n",
       "div.sk-label-container:hover .sk-estimator-doc-link.fitted:hover,\n",
       ".sk-estimator-doc-link.fitted:hover {\n",
       "  /* fitted */\n",
       "  background-color: var(--sklearn-color-fitted-level-3);\n",
       "  color: var(--sklearn-color-background);\n",
       "  text-decoration: none;\n",
       "}\n",
       "\n",
       "/* Span, style for the box shown on hovering the info icon */\n",
       ".sk-estimator-doc-link span {\n",
       "  display: none;\n",
       "  z-index: 9999;\n",
       "  position: relative;\n",
       "  font-weight: normal;\n",
       "  right: .2ex;\n",
       "  padding: .5ex;\n",
       "  margin: .5ex;\n",
       "  width: min-content;\n",
       "  min-width: 20ex;\n",
       "  max-width: 50ex;\n",
       "  color: var(--sklearn-color-text);\n",
       "  box-shadow: 2pt 2pt 4pt #999;\n",
       "  /* unfitted */\n",
       "  background: var(--sklearn-color-unfitted-level-0);\n",
       "  border: .5pt solid var(--sklearn-color-unfitted-level-3);\n",
       "}\n",
       "\n",
       ".sk-estimator-doc-link.fitted span {\n",
       "  /* fitted */\n",
       "  background: var(--sklearn-color-fitted-level-0);\n",
       "  border: var(--sklearn-color-fitted-level-3);\n",
       "}\n",
       "\n",
       ".sk-estimator-doc-link:hover span {\n",
       "  display: block;\n",
       "}\n",
       "\n",
       "/* \"?\"-specific style due to the `<a>` HTML tag */\n",
       "\n",
       "#sk-container-id-1 a.estimator_doc_link {\n",
       "  float: right;\n",
       "  font-size: 1rem;\n",
       "  line-height: 1em;\n",
       "  font-family: monospace;\n",
       "  background-color: var(--sklearn-color-background);\n",
       "  border-radius: 1rem;\n",
       "  height: 1rem;\n",
       "  width: 1rem;\n",
       "  text-decoration: none;\n",
       "  /* unfitted */\n",
       "  color: var(--sklearn-color-unfitted-level-1);\n",
       "  border: var(--sklearn-color-unfitted-level-1) 1pt solid;\n",
       "}\n",
       "\n",
       "#sk-container-id-1 a.estimator_doc_link.fitted {\n",
       "  /* fitted */\n",
       "  border: var(--sklearn-color-fitted-level-1) 1pt solid;\n",
       "  color: var(--sklearn-color-fitted-level-1);\n",
       "}\n",
       "\n",
       "/* On hover */\n",
       "#sk-container-id-1 a.estimator_doc_link:hover {\n",
       "  /* unfitted */\n",
       "  background-color: var(--sklearn-color-unfitted-level-3);\n",
       "  color: var(--sklearn-color-background);\n",
       "  text-decoration: none;\n",
       "}\n",
       "\n",
       "#sk-container-id-1 a.estimator_doc_link.fitted:hover {\n",
       "  /* fitted */\n",
       "  background-color: var(--sklearn-color-fitted-level-3);\n",
       "}\n",
       "</style><div id=\"sk-container-id-1\" class=\"sk-top-container\"><div class=\"sk-text-repr-fallback\"><pre>SelectFromModel(estimator=Lasso(alpha=0.05, random_state=0))</pre><b>In a Jupyter environment, please rerun this cell to show the HTML representation or trust the notebook. <br />On GitHub, the HTML representation is unable to render, please try loading this page with nbviewer.org.</b></div><div class=\"sk-container\" hidden><div class=\"sk-item sk-dashed-wrapped\"><div class=\"sk-label-container\"><div class=\"sk-label fitted sk-toggleable\"><input class=\"sk-toggleable__control sk-hidden--visually\" id=\"sk-estimator-id-1\" type=\"checkbox\" ><label for=\"sk-estimator-id-1\" class=\"sk-toggleable__label fitted sk-toggleable__label-arrow fitted\">&nbsp;&nbsp;SelectFromModel<a class=\"sk-estimator-doc-link fitted\" rel=\"noreferrer\" target=\"_blank\" href=\"https://scikit-learn.org/1.5/modules/generated/sklearn.feature_selection.SelectFromModel.html\">?<span>Documentation for SelectFromModel</span></a><span class=\"sk-estimator-doc-link fitted\">i<span>Fitted</span></span></label><div class=\"sk-toggleable__content fitted\"><pre>SelectFromModel(estimator=Lasso(alpha=0.05, random_state=0))</pre></div> </div></div><div class=\"sk-parallel\"><div class=\"sk-parallel-item\"><div class=\"sk-item\"><div class=\"sk-label-container\"><div class=\"sk-label fitted sk-toggleable\"><input class=\"sk-toggleable__control sk-hidden--visually\" id=\"sk-estimator-id-2\" type=\"checkbox\" ><label for=\"sk-estimator-id-2\" class=\"sk-toggleable__label fitted sk-toggleable__label-arrow fitted\">estimator: Lasso</label><div class=\"sk-toggleable__content fitted\"><pre>Lasso(alpha=0.05, random_state=0)</pre></div> </div></div><div class=\"sk-serial\"><div class=\"sk-item\"><div class=\"sk-estimator fitted sk-toggleable\"><input class=\"sk-toggleable__control sk-hidden--visually\" id=\"sk-estimator-id-3\" type=\"checkbox\" ><label for=\"sk-estimator-id-3\" class=\"sk-toggleable__label fitted sk-toggleable__label-arrow fitted\">&nbsp;Lasso<a class=\"sk-estimator-doc-link fitted\" rel=\"noreferrer\" target=\"_blank\" href=\"https://scikit-learn.org/1.5/modules/generated/sklearn.linear_model.Lasso.html\">?<span>Documentation for Lasso</span></a></label><div class=\"sk-toggleable__content fitted\"><pre>Lasso(alpha=0.05, random_state=0)</pre></div> </div></div></div></div></div></div></div></div></div>"
      ],
      "text/plain": [
       "SelectFromModel(estimator=Lasso(alpha=0.05, random_state=0))"
      ]
     },
     "execution_count": 151,
     "metadata": {},
     "output_type": "execute_result"
    }
   ],
   "source": [
    "X = df_scaled.drop('price',axis=1)\n",
    "y = df_scaled['price']\n",
    "\n",
    "feature_selection_model = SelectFromModel(Lasso(alpha = 0.05, random_state = 0))\n",
    "feature_selection_model.fit(X,y)"
   ]
  },
  {
   "cell_type": "code",
   "execution_count": 152,
   "id": "a080f39d",
   "metadata": {
    "colab": {
     "base_uri": "https://localhost:8080/"
    },
    "executionInfo": {
     "elapsed": 25,
     "status": "ok",
     "timestamp": 1732010722443,
     "user": {
      "displayName": "Mayur Valvi",
      "userId": "08772129272918674075"
     },
     "user_tz": -330
    },
    "id": "a080f39d",
    "outputId": "79ab0196-59d8-4518-9090-70d35570406a",
    "papermill": {
     "duration": 0.058192,
     "end_time": "2024-08-14T13:49:37.409276",
     "exception": false,
     "start_time": "2024-08-14T13:49:37.351084",
     "status": "completed"
    },
    "tags": []
   },
   "outputs": [
    {
     "data": {
      "text/plain": [
       "array([ True,  True, False, False,  True, False, False,  True,  True,\n",
       "       False, False, False,  True,  True,  True])"
      ]
     },
     "execution_count": 152,
     "metadata": {},
     "output_type": "execute_result"
    }
   ],
   "source": [
    "feature_selection_model.get_support()"
   ]
  },
  {
   "cell_type": "code",
   "execution_count": 153,
   "id": "c89550e2",
   "metadata": {
    "colab": {
     "base_uri": "https://localhost:8080/"
    },
    "executionInfo": {
     "elapsed": 23,
     "status": "ok",
     "timestamp": 1732010722443,
     "user": {
      "displayName": "Mayur Valvi",
      "userId": "08772129272918674075"
     },
     "user_tz": -330
    },
    "id": "c89550e2",
    "outputId": "9314ba7b-91d0-4dc7-d97f-ab5bf0e33233",
    "papermill": {
     "duration": 0.045862,
     "end_time": "2024-08-14T13:49:37.487031",
     "exception": false,
     "start_time": "2024-08-14T13:49:37.441169",
     "status": "completed"
    },
    "tags": []
   },
   "outputs": [
    {
     "data": {
      "text/plain": [
       "Index(['house_type', 'location', 'numBathrooms', 'verificationDate',\n",
       "       'SecurityDeposit', 'numBalconies_nan', 'bhk', 'house_size_sqft'],\n",
       "      dtype='object')"
      ]
     },
     "execution_count": 153,
     "metadata": {},
     "output_type": "execute_result"
    }
   ],
   "source": [
    "Selected_Features = X.columns[(feature_selection_model.get_support())]\n",
    "Selected_Features"
   ]
  },
  {
   "cell_type": "markdown",
   "id": "f3f2ce00",
   "metadata": {
    "id": "f3f2ce00",
    "papermill": {
     "duration": 0.033484,
     "end_time": "2024-08-14T13:49:37.553706",
     "exception": false,
     "start_time": "2024-08-14T13:49:37.520222",
     "status": "completed"
    },
    "tags": []
   },
   "source": [
    "Combining results of both correlation matrix and SelectFromModel the following columns will be dropped and not used for model training : **Latitude, Longitude, numBalconies, isNegotiable, isNegotiable_nan, numBathrooms_nan.**"
   ]
  },
  {
   "cell_type": "markdown",
   "id": "4ed94886",
   "metadata": {
    "id": "4ed94886",
    "papermill": {
     "duration": 0.032414,
     "end_time": "2024-08-14T13:49:37.619761",
     "exception": false,
     "start_time": "2024-08-14T13:49:37.587347",
     "status": "completed"
    },
    "tags": []
   },
   "source": [
    "# 6. Model Training"
   ]
  },
  {
   "cell_type": "code",
   "execution_count": 156,
   "id": "d1b9ebd2",
   "metadata": {
    "executionInfo": {
     "elapsed": 22,
     "status": "ok",
     "timestamp": 1732010722443,
     "user": {
      "displayName": "Mayur Valvi",
      "userId": "08772129272918674075"
     },
     "user_tz": -330
    },
    "id": "d1b9ebd2",
    "papermill": {
     "duration": 0.044149,
     "end_time": "2024-08-14T13:49:37.696301",
     "exception": false,
     "start_time": "2024-08-14T13:49:37.652152",
     "status": "completed"
    },
    "tags": []
   },
   "outputs": [],
   "source": [
    "X_final = df_scaled.drop(['latitude','longitude','numBalconies','isNegotiable','isNegotiable_nan','numBathrooms_nan','price'],axis=1)\n",
    "y_final = df_scaled['price']"
   ]
  },
  {
   "cell_type": "code",
   "execution_count": 157,
   "id": "0cfacc00",
   "metadata": {
    "colab": {
     "base_uri": "https://localhost:8080/"
    },
    "executionInfo": {
     "elapsed": 22,
     "status": "ok",
     "timestamp": 1732010722443,
     "user": {
      "displayName": "Mayur Valvi",
      "userId": "08772129272918674075"
     },
     "user_tz": -330
    },
    "id": "0cfacc00",
    "outputId": "5ea6e6d2-daf5-43f0-9223-b79b6385ebc7",
    "papermill": {
     "duration": 0.04929,
     "end_time": "2024-08-14T13:49:37.777878",
     "exception": false,
     "start_time": "2024-08-14T13:49:37.728588",
     "status": "completed"
    },
    "tags": []
   },
   "outputs": [
    {
     "data": {
      "text/plain": [
       "((4000, 9), (1000, 9), (4000,), (1000,))"
      ]
     },
     "execution_count": 157,
     "metadata": {},
     "output_type": "execute_result"
    }
   ],
   "source": [
    "X_train,X_test,y_train,y_test = train_test_split(X_final,y_final,test_size=0.20,random_state=42)\n",
    "X_train.shape,X_test.shape,y_train.shape,y_test.shape"
   ]
  },
  {
   "cell_type": "code",
   "execution_count": 158,
   "id": "b54b9224",
   "metadata": {
    "executionInfo": {
     "elapsed": 20,
     "status": "ok",
     "timestamp": 1732010722443,
     "user": {
      "displayName": "Mayur Valvi",
      "userId": "08772129272918674075"
     },
     "user_tz": -330
    },
    "id": "b54b9224",
    "papermill": {
     "duration": 0.044134,
     "end_time": "2024-08-14T13:49:37.854798",
     "exception": false,
     "start_time": "2024-08-14T13:49:37.810664",
     "status": "completed"
    },
    "tags": []
   },
   "outputs": [],
   "source": [
    "def evaluate_model(true, predicted):\n",
    "    mae = mean_absolute_error(true, predicted)\n",
    "    mse = mean_squared_error(true, predicted)\n",
    "    rmse = np.sqrt(mean_squared_error(true, predicted))\n",
    "    r2_square = r2_score(true, predicted)\n",
    "    return mae, rmse, r2_square"
   ]
  },
  {
   "cell_type": "code",
   "execution_count": 159,
   "id": "b9ce9fe9",
   "metadata": {
    "executionInfo": {
     "elapsed": 20,
     "status": "ok",
     "timestamp": 1732010722443,
     "user": {
      "displayName": "Mayur Valvi",
      "userId": "08772129272918674075"
     },
     "user_tz": -330
    },
    "id": "b9ce9fe9",
    "papermill": {
     "duration": 0.054989,
     "end_time": "2024-08-14T13:49:37.943104",
     "exception": false,
     "start_time": "2024-08-14T13:49:37.888115",
     "status": "completed"
    },
    "tags": []
   },
   "outputs": [],
   "source": [
    "def model_trainer(X_train,X_test,y_train,y_test):\n",
    "  models = {\n",
    "    \"Linear Regression\": LinearRegression(),\n",
    "    \"Lasso\": Lasso(),\n",
    "    \"Ridge\": Ridge(),\n",
    "    \"K-Neighbors Regressor\": KNeighborsRegressor(),\n",
    "    \"Decision Tree\": DecisionTreeRegressor(),\n",
    "    \"Random Forest Regressor\": RandomForestRegressor(),\n",
    "    \"XGBRegressor\": XGBRegressor(),\n",
    "    \"CatBoosting Regressor\": CatBoostRegressor(verbose=False),\n",
    "    \"AdaBoost Regressor\": AdaBoostRegressor()}\n",
    "  model_list = []\n",
    "  r2_list = []\n",
    "\n",
    "  for i in range(len(list(models))):\n",
    "    model = list(models.values())[i]\n",
    "    model.fit(X_train, y_train)\n",
    "\n",
    "    y_train_pred = model.predict(X_train)\n",
    "    y_test_pred = model.predict(X_test)\n",
    "\n",
    "\n",
    "    model_train_mae , model_train_rmse, model_train_r2 = evaluate_model(y_train, y_train_pred)\n",
    "\n",
    "    model_test_mae , model_test_rmse, model_test_r2 = evaluate_model(y_test, y_test_pred)\n",
    "\n",
    "    print(list(models.keys())[i])\n",
    "    model_list.append(list(models.keys())[i])\n",
    "\n",
    "    print('Model performance for Training set')\n",
    "    print(\"- Root Mean Squared Error: {:.4f}\".format(model_train_rmse))\n",
    "    print(\"- Mean Absolute Error: {:.4f}\".format(model_train_mae))\n",
    "    print(\"- R2 Score: {:.4f}\".format(model_train_r2))\n",
    "\n",
    "    print('----------------------------------')\n",
    "\n",
    "    print('Model performance for Test set')\n",
    "    print(\"- Root Mean Squared Error: {:.4f}\".format(model_test_rmse))\n",
    "    print(\"- Mean Absolute Error: {:.4f}\".format(model_test_mae))\n",
    "    print(\"- R2 Score: {:.4f}\".format(model_test_r2))\n",
    "    r2_list.append(model_test_r2)\n",
    "\n",
    "    print('='*35)\n",
    "    print('\\n')\n",
    "\n",
    "  return model_list,r2_list"
   ]
  },
  {
   "cell_type": "code",
   "execution_count": 160,
   "id": "00d7c4c0",
   "metadata": {
    "colab": {
     "base_uri": "https://localhost:8080/"
    },
    "executionInfo": {
     "elapsed": 7058,
     "status": "ok",
     "timestamp": 1732010729481,
     "user": {
      "displayName": "Mayur Valvi",
      "userId": "08772129272918674075"
     },
     "user_tz": -330
    },
    "id": "00d7c4c0",
    "outputId": "5a52b212-3bb0-4edc-c5e4-83a2f8ea009c",
    "papermill": {
     "duration": 4.051724,
     "end_time": "2024-08-14T13:49:42.028213",
     "exception": false,
     "start_time": "2024-08-14T13:49:37.976489",
     "status": "completed"
    },
    "tags": []
   },
   "outputs": [
    {
     "name": "stdout",
     "output_type": "stream",
     "text": [
      "Linear Regression\n",
      "Model performance for Training set\n",
      "- Root Mean Squared Error: 0.3880\n",
      "- Mean Absolute Error: 0.2932\n",
      "- R2 Score: 0.9236\n",
      "----------------------------------\n",
      "Model performance for Test set\n",
      "- Root Mean Squared Error: 0.3568\n",
      "- Mean Absolute Error: 0.2750\n",
      "- R2 Score: 0.9320\n",
      "===================================\n",
      "\n",
      "\n",
      "Lasso\n",
      "Model performance for Training set\n",
      "- Root Mean Squared Error: 1.2109\n",
      "- Mean Absolute Error: 1.0886\n",
      "- R2 Score: 0.2562\n",
      "----------------------------------\n",
      "Model performance for Test set\n",
      "- Root Mean Squared Error: 1.1756\n",
      "- Mean Absolute Error: 1.0517\n",
      "- R2 Score: 0.2623\n",
      "===================================\n",
      "\n",
      "\n",
      "Ridge\n",
      "Model performance for Training set\n",
      "- Root Mean Squared Error: 0.3880\n",
      "- Mean Absolute Error: 0.2933\n",
      "- R2 Score: 0.9236\n",
      "----------------------------------\n",
      "Model performance for Test set\n",
      "- Root Mean Squared Error: 0.3568\n",
      "- Mean Absolute Error: 0.2750\n",
      "- R2 Score: 0.9321\n",
      "===================================\n",
      "\n",
      "\n",
      "K-Neighbors Regressor\n",
      "Model performance for Training set\n",
      "- Root Mean Squared Error: 0.2180\n",
      "- Mean Absolute Error: 0.1333\n",
      "- R2 Score: 0.9759\n",
      "----------------------------------\n",
      "Model performance for Test set\n",
      "- Root Mean Squared Error: 0.2509\n",
      "- Mean Absolute Error: 0.1681\n",
      "- R2 Score: 0.9664\n",
      "===================================\n",
      "\n",
      "\n",
      "Decision Tree\n",
      "Model performance for Training set\n",
      "- Root Mean Squared Error: 0.0365\n",
      "- Mean Absolute Error: 0.0083\n",
      "- R2 Score: 0.9993\n",
      "----------------------------------\n",
      "Model performance for Test set\n",
      "- Root Mean Squared Error: 0.2568\n",
      "- Mean Absolute Error: 0.1470\n",
      "- R2 Score: 0.9648\n",
      "===================================\n",
      "\n",
      "\n",
      "Random Forest Regressor\n",
      "Model performance for Training set\n",
      "- Root Mean Squared Error: 0.0815\n",
      "- Mean Absolute Error: 0.0496\n",
      "- R2 Score: 0.9966\n",
      "----------------------------------\n",
      "Model performance for Test set\n",
      "- Root Mean Squared Error: 0.2059\n",
      "- Mean Absolute Error: 0.1263\n",
      "- R2 Score: 0.9774\n",
      "===================================\n",
      "\n",
      "\n",
      "XGBRegressor\n",
      "Model performance for Training set\n",
      "- Root Mean Squared Error: 0.0925\n",
      "- Mean Absolute Error: 0.0637\n",
      "- R2 Score: 0.9957\n",
      "----------------------------------\n",
      "Model performance for Test set\n",
      "- Root Mean Squared Error: 0.1840\n",
      "- Mean Absolute Error: 0.1259\n",
      "- R2 Score: 0.9819\n",
      "===================================\n",
      "\n",
      "\n",
      "CatBoosting Regressor\n",
      "Model performance for Training set\n",
      "- Root Mean Squared Error: 0.1366\n",
      "- Mean Absolute Error: 0.0985\n",
      "- R2 Score: 0.9905\n",
      "----------------------------------\n",
      "Model performance for Test set\n",
      "- Root Mean Squared Error: 0.1838\n",
      "- Mean Absolute Error: 0.1313\n",
      "- R2 Score: 0.9820\n",
      "===================================\n",
      "\n",
      "\n",
      "AdaBoost Regressor\n",
      "Model performance for Training set\n",
      "- Root Mean Squared Error: 0.3277\n",
      "- Mean Absolute Error: 0.2643\n",
      "- R2 Score: 0.9455\n",
      "----------------------------------\n",
      "Model performance for Test set\n",
      "- Root Mean Squared Error: 0.3296\n",
      "- Mean Absolute Error: 0.2623\n",
      "- R2 Score: 0.9420\n",
      "===================================\n",
      "\n",
      "\n"
     ]
    }
   ],
   "source": [
    "model_list,r2_list = model_trainer(X_train,X_test,y_train,y_test)"
   ]
  },
  {
   "cell_type": "markdown",
   "id": "354e5020",
   "metadata": {
    "id": "354e5020",
    "papermill": {
     "duration": 0.032853,
     "end_time": "2024-08-14T13:49:42.094092",
     "exception": false,
     "start_time": "2024-08-14T13:49:42.061239",
     "status": "completed"
    },
    "tags": []
   },
   "source": [
    "# 7. Choosing Best Model"
   ]
  },
  {
   "cell_type": "code",
   "execution_count": 162,
   "id": "1f0378f2",
   "metadata": {
    "colab": {
     "base_uri": "https://localhost:8080/",
     "height": 331
    },
    "executionInfo": {
     "elapsed": 15,
     "status": "ok",
     "timestamp": 1732010729481,
     "user": {
      "displayName": "Mayur Valvi",
      "userId": "08772129272918674075"
     },
     "user_tz": -330
    },
    "id": "1f0378f2",
    "outputId": "88bc82c2-0871-450e-a829-31d4f382207e",
    "papermill": {
     "duration": 0.052074,
     "end_time": "2024-08-14T13:49:42.179391",
     "exception": false,
     "start_time": "2024-08-14T13:49:42.127317",
     "status": "completed"
    },
    "tags": []
   },
   "outputs": [
    {
     "data": {
      "text/html": [
       "<div>\n",
       "<style scoped>\n",
       "    .dataframe tbody tr th:only-of-type {\n",
       "        vertical-align: middle;\n",
       "    }\n",
       "\n",
       "    .dataframe tbody tr th {\n",
       "        vertical-align: top;\n",
       "    }\n",
       "\n",
       "    .dataframe thead th {\n",
       "        text-align: right;\n",
       "    }\n",
       "</style>\n",
       "<table border=\"1\" class=\"dataframe\">\n",
       "  <thead>\n",
       "    <tr style=\"text-align: right;\">\n",
       "      <th></th>\n",
       "      <th>Model Name</th>\n",
       "      <th>R2_Score</th>\n",
       "    </tr>\n",
       "  </thead>\n",
       "  <tbody>\n",
       "    <tr>\n",
       "      <th>7</th>\n",
       "      <td>CatBoosting Regressor</td>\n",
       "      <td>0.981968</td>\n",
       "    </tr>\n",
       "    <tr>\n",
       "      <th>6</th>\n",
       "      <td>XGBRegressor</td>\n",
       "      <td>0.981935</td>\n",
       "    </tr>\n",
       "    <tr>\n",
       "      <th>5</th>\n",
       "      <td>Random Forest Regressor</td>\n",
       "      <td>0.977374</td>\n",
       "    </tr>\n",
       "    <tr>\n",
       "      <th>3</th>\n",
       "      <td>K-Neighbors Regressor</td>\n",
       "      <td>0.966412</td>\n",
       "    </tr>\n",
       "    <tr>\n",
       "      <th>4</th>\n",
       "      <td>Decision Tree</td>\n",
       "      <td>0.964800</td>\n",
       "    </tr>\n",
       "    <tr>\n",
       "      <th>8</th>\n",
       "      <td>AdaBoost Regressor</td>\n",
       "      <td>0.942021</td>\n",
       "    </tr>\n",
       "    <tr>\n",
       "      <th>2</th>\n",
       "      <td>Ridge</td>\n",
       "      <td>0.932050</td>\n",
       "    </tr>\n",
       "    <tr>\n",
       "      <th>0</th>\n",
       "      <td>Linear Regression</td>\n",
       "      <td>0.932047</td>\n",
       "    </tr>\n",
       "    <tr>\n",
       "      <th>1</th>\n",
       "      <td>Lasso</td>\n",
       "      <td>0.262291</td>\n",
       "    </tr>\n",
       "  </tbody>\n",
       "</table>\n",
       "</div>"
      ],
      "text/plain": [
       "                Model Name  R2_Score\n",
       "7    CatBoosting Regressor  0.981968\n",
       "6             XGBRegressor  0.981935\n",
       "5  Random Forest Regressor  0.977374\n",
       "3    K-Neighbors Regressor  0.966412\n",
       "4            Decision Tree  0.964800\n",
       "8       AdaBoost Regressor  0.942021\n",
       "2                    Ridge  0.932050\n",
       "0        Linear Regression  0.932047\n",
       "1                    Lasso  0.262291"
      ]
     },
     "execution_count": 162,
     "metadata": {},
     "output_type": "execute_result"
    }
   ],
   "source": [
    "pd.DataFrame(list(zip(model_list, r2_list)), columns=['Model Name', 'R2_Score']).sort_values(by=[\"R2_Score\"],ascending=False)"
   ]
  },
  {
   "cell_type": "code",
   "execution_count": 163,
   "id": "8aac4e3c",
   "metadata": {
    "colab": {
     "base_uri": "https://localhost:8080/"
    },
    "executionInfo": {
     "elapsed": 2146,
     "status": "ok",
     "timestamp": 1732010731613,
     "user": {
      "displayName": "Mayur Valvi",
      "userId": "08772129272918674075"
     },
     "user_tz": -330
    },
    "id": "8aac4e3c",
    "outputId": "d5581552-6f3e-4781-d866-7aedb578dac0",
    "papermill": {
     "duration": 1.777582,
     "end_time": "2024-08-14T13:49:43.990453",
     "exception": false,
     "start_time": "2024-08-14T13:49:42.212871",
     "status": "completed"
    },
    "tags": []
   },
   "outputs": [
    {
     "name": "stdout",
     "output_type": "stream",
     "text": [
      " Accuracy of the model is 98.20\n"
     ]
    }
   ],
   "source": [
    "cb_model = CatBoostRegressor(verbose=False)\n",
    "cb_model = cb_model.fit(X_train, y_train)\n",
    "y_pred = cb_model.predict(X_test)\n",
    "score = r2_score(y_test, y_pred)*100\n",
    "print(\" Accuracy of the model is %.2f\" %score)"
   ]
  },
  {
   "cell_type": "markdown",
   "id": "03ae03f9",
   "metadata": {
    "id": "03ae03f9",
    "papermill": {
     "duration": 0.034997,
     "end_time": "2024-08-14T13:49:44.059773",
     "exception": false,
     "start_time": "2024-08-14T13:49:44.024776",
     "status": "completed"
    },
    "tags": []
   },
   "source": [
    "# 8. Results"
   ]
  },
  {
   "cell_type": "code",
   "execution_count": 165,
   "id": "38b3c3cf",
   "metadata": {
    "colab": {
     "base_uri": "https://localhost:8080/",
     "height": 466
    },
    "executionInfo": {
     "elapsed": 18,
     "status": "ok",
     "timestamp": 1732010731613,
     "user": {
      "displayName": "Mayur Valvi",
      "userId": "08772129272918674075"
     },
     "user_tz": -330
    },
    "id": "38b3c3cf",
    "outputId": "e5056a43-cc23-4e66-8405-a1a9e9cee1a0",
    "papermill": {
     "duration": 0.352334,
     "end_time": "2024-08-14T13:49:44.445499",
     "exception": false,
     "start_time": "2024-08-14T13:49:44.093165",
     "status": "completed"
    },
    "tags": []
   },
   "outputs": [
    {
     "data": {
      "text/plain": [
       "Text(0, 0.5, 'Predicted')"
      ]
     },
     "execution_count": 165,
     "metadata": {},
     "output_type": "execute_result"
    },
    {
     "data": {
      "image/png": "[encoded data removed]",
      "text/plain": [
       "<Figure size 640x480 with 1 Axes>"
      ]
     },
     "metadata": {},
     "output_type": "display_data"
    }
   ],
   "source": [
    "plt.scatter(y_test,y_pred);\n",
    "plt.xlabel('Actual');\n",
    "plt.ylabel('Predicted')"
   ]
  },
  {
   "cell_type": "code",
   "execution_count": 166,
   "id": "a269aa1f",
   "metadata": {
    "colab": {
     "base_uri": "https://localhost:8080/",
     "height": 466
    },
    "executionInfo": {
     "elapsed": 1624,
     "status": "ok",
     "timestamp": 1732010733220,
     "user": {
      "displayName": "Mayur Valvi",
      "userId": "08772129272918674075"
     },
     "user_tz": -330
    },
    "id": "a269aa1f",
    "outputId": "6ef8c4a1-7338-4350-9d24-10cd5ac46f57",
    "papermill": {
     "duration": 0.347003,
     "end_time": "2024-08-14T13:49:44.827407",
     "exception": false,
     "start_time": "2024-08-14T13:49:44.480404",
     "status": "completed"
    },
    "tags": []
   },
   "outputs": [
    {
     "data": {
      "text/plain": [
       "<Axes: xlabel='price'>"
      ]
     },
     "execution_count": 166,
     "metadata": {},
     "output_type": "execute_result"
    },
    {
     "data": {
      "image/png": "[encoded data removed]",
      "text/plain": [
       "<Figure size 640x480 with 1 Axes>"
      ]
     },
     "metadata": {},
     "output_type": "display_data"
    }
   ],
   "source": [
    "sns.regplot(x=y_test,y=y_pred,ci=None,color ='red')"
   ]
  },
  {
   "cell_type": "code",
   "execution_count": 213,
   "id": "d323a140-c0cd-4cdc-a44b-7a850c0e62a5",
   "metadata": {},
   "outputs": [],
   "source": [
    "import pickle\n",
    "\n",
    "# Save the model and scaler to a pickle file\n",
    "with open('model_and_scaler.pkl', 'wb') as file:\n",
    "    pickle.dump({'model': cb_model, 'scaler': scaler}, file)\n"
   ]
  },
  {
   "cell_type": "code",
   "execution_count": null,
   "id": "290da477-523b-4cfd-807a-abe1ad8f60cf",
   "metadata": {},
   "outputs": [],
   "source": []
  }
 ],
 "metadata": {
  "colab": {
   "provenance": []
  },
  "kaggle": {
   "accelerator": "none",
   "dataSources": [
    {
     "datasetId": 4749485,
     "sourceId": 8053271,
     "sourceType": "datasetVersion"
    }
   ],
   "dockerImageVersionId": 30746,
   "isGpuEnabled": false,
   "isInternetEnabled": true,
   "language": "python",
   "sourceType": "notebook"
  },
  "kernelspec": {
   "display_name": "Python 3 (ipykernel)",
   "language": "python",
   "name": "python3"
  },
  "language_info": {
   "codemirror_mode": {
    "name": "ipython",
    "version": 3
   },
   "file_extension": ".py",
   "mimetype": "text/x-python",
   "name": "python",
   "nbconvert_exporter": "python",
   "pygments_lexer": "ipython3",
   "version": "3.12.7"
  },
  "papermill": {
   "default_parameters": {},
   "duration": 26.494358,
   "end_time": "2024-08-14T13:49:45.787026",
   "environment_variables": {},
   "exception": null,
   "input_path": "__notebook__.ipynb",
   "output_path": "__notebook__.ipynb",
   "parameters": {},
   "start_time": "2024-08-14T13:49:19.292668",
   "version": "2.5.0"
  }
 },
 "nbformat": 4,
 "nbformat_minor": 5
}
